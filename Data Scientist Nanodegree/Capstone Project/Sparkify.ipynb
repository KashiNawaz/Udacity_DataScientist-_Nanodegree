{
 "cells": [
  {
   "cell_type": "markdown",
   "metadata": {},
   "source": [
    "# Sparkify Project Workspace\n",
    "This workspace contains a tiny subset (128MB) of the full dataset available (12GB). Feel free to use this workspace to build your project, or to explore a smaller subset with Spark before deploying your cluster on the cloud. Instructions for setting up your Spark cluster is included in the last lesson of the Extracurricular Spark Course content.\n",
    "\n",
    "You can follow the steps below to guide your data analysis and model building portion of this project."
   ]
  },
  {
   "cell_type": "code",
   "execution_count": 2,
   "metadata": {},
   "outputs": [
    {
     "name": "stdout",
     "output_type": "stream",
     "text": [
      "Collecting user_agents\n",
      "  Downloading https://files.pythonhosted.org/packages/1b/be/82e4d20a7716d8e5de98b948edcecff9bb237e6718c3831bd92794fe9821/user-agents-2.1.tar.gz\n",
      "Collecting ua-parser>=0.9.0 (from user_agents)\n",
      "  Downloading https://files.pythonhosted.org/packages/9d/22/4d16b08db329fd440eed366d35e4dd7195c9babb4ecac5218f28081522a2/ua_parser-0.10.0-py2.py3-none-any.whl\n",
      "Building wheels for collected packages: user-agents\n",
      "  Running setup.py bdist_wheel for user-agents ... \u001b[?25ldone\n",
      "\u001b[?25h  Stored in directory: /root/.cache/pip/wheels/99/f3/df/12f8953cef0e59c251c6e9cf7816d202e8e778a3a928a645a6\n",
      "Successfully built user-agents\n",
      "Installing collected packages: ua-parser, user-agents\n",
      "Successfully installed ua-parser-0.10.0 user-agents-2.1\n"
     ]
    }
   ],
   "source": [
    "! pip install user_agents"
   ]
  },
  {
   "cell_type": "code",
   "execution_count": 3,
   "metadata": {},
   "outputs": [],
   "source": [
    "# import libraries\n",
    "import pandas as pd\n",
    "import matplotlib.pyplot as plt\n",
    "import seaborn as sns\n",
    "import datetime\n",
    "import re\n",
    "\n",
    "# all pyspark stuff\n",
    "from pyspark.ml import Pipeline\n",
    "from pyspark.ml.evaluation import MulticlassClassificationEvaluator\n",
    "from pyspark.ml.regression import LinearRegression\n",
    "from pyspark.ml.classification import LogisticRegression,LinearSVC, NaiveBayes,RandomForestClassifier, DecisionTreeClassifier, GBTClassifier\n",
    "from pyspark.ml.tuning import CrossValidator, ParamGridBuilder\n",
    "from pyspark.ml.feature import CountVectorizer, IDF, StopWordsRemover, StringIndexer, Normalizer, RegexTokenizer, StandardScaler, VectorAssembler, PCA, OneHotEncoderEstimator\n",
    "from pyspark.sql.types import IntegerType\n",
    "from pyspark.sql.functions import avg, explode, concat, lit, min, max, split, udf, isnull, col, desc\n",
    "from pyspark.sql import SparkSession, Window\n",
    "from pyspark.sql.functions import *\n",
    "from pyspark.sql.types import *\n",
    "\n",
    "\n",
    "from user_agents import parse\n",
    "\n",
    "import re\n"
   ]
  },
  {
   "cell_type": "code",
   "execution_count": 4,
   "metadata": {},
   "outputs": [],
   "source": [
    "# create a Spark session\n",
    "spark = SparkSession \\\n",
    "        .builder \\\n",
    "        .appName(\"spark_capstone\") \\\n",
    "        .getOrCreate()"
   ]
  },
  {
   "cell_type": "markdown",
   "metadata": {},
   "source": [
    "# Load and Clean Dataset\n",
    "In this workspace, the mini-dataset file is `mini_sparkify_event_data.json`. Load and clean the dataset, checking for invalid or missing data - for example, records without userids or sessionids. "
   ]
  },
  {
   "cell_type": "code",
   "execution_count": 5,
   "metadata": {
    "scrolled": true
   },
   "outputs": [
    {
     "data": {
      "text/plain": [
       "DataFrame[artist: string, auth: string, firstName: string, gender: string, itemInSession: bigint, lastName: string, length: double, level: string, location: string, method: string, page: string, registration: bigint, sessionId: bigint, song: string, status: bigint, ts: bigint, userAgent: string, userId: string]"
      ]
     },
     "execution_count": 5,
     "metadata": {},
     "output_type": "execute_result"
    }
   ],
   "source": [
    "sparkify_data = 'mini_sparkify_event_data.json'\n",
    "df = spark.read.json(sparkify_data)\n",
    "df.persist()"
   ]
  },
  {
   "cell_type": "code",
   "execution_count": 6,
   "metadata": {},
   "outputs": [
    {
     "name": "stdout",
     "output_type": "stream",
     "text": [
      "The number of rows in the dataframe is 286500\n",
      "The number of columns in the dataframe is 18\n"
     ]
    }
   ],
   "source": [
    "print(\"The number of rows in the dataframe is {}\".format(df.count()))\n",
    "print(\"The number of columns in the dataframe is {}\".format(len(df.columns)))"
   ]
  },
  {
   "cell_type": "code",
   "execution_count": 7,
   "metadata": {},
   "outputs": [
    {
     "name": "stdout",
     "output_type": "stream",
     "text": [
      "278154\n"
     ]
    }
   ],
   "source": [
    "# drop any cells with missing user id or session id\n",
    "df = df.dropna(how = 'any', subset = ['userId', 'sessionId'])\n",
    "df = df[df.userId != \"\"]\n",
    "print(df.count())"
   ]
  },
  {
   "cell_type": "code",
   "execution_count": 8,
   "metadata": {},
   "outputs": [
    {
     "name": "stdout",
     "output_type": "stream",
     "text": [
      "+------+\n",
      "|userId|\n",
      "+------+\n",
      "|    10|\n",
      "|   100|\n",
      "|100001|\n",
      "|100002|\n",
      "|100003|\n",
      "|100004|\n",
      "|100005|\n",
      "|100006|\n",
      "|100007|\n",
      "|100008|\n",
      "+------+\n",
      "only showing top 10 rows\n",
      "\n"
     ]
    }
   ],
   "source": [
    "df.select('userId').dropDuplicates().sort('userId').show(10)"
   ]
  },
  {
   "cell_type": "markdown",
   "metadata": {},
   "source": [
    "# Exploratory Data Analysis\n",
    "When you're working with the full dataset, perform EDA by loading a small subset of the data and doing basic manipulations within Spark. In this workspace, you are already provided a small subset of data you can explore.\n",
    "\n"
   ]
  },
  {
   "cell_type": "markdown",
   "metadata": {},
   "source": [
    "### Define Churn\n",
    "\n",
    "Once you've done some preliminary analysis, create a column `Churn` to use as the label for your model. I suggest using the `Cancellation Confirmation` events to define your churn, which happen for both paid and free users. As a bonus task, you can also look into the `Downgrade` events.\n",
    "\n"
   ]
  },
  {
   "cell_type": "code",
   "execution_count": 9,
   "metadata": {},
   "outputs": [
    {
     "name": "stdout",
     "output_type": "stream",
     "text": [
      "+-----+----------------------+\n",
      "|Churn|count(DISTINCT userId)|\n",
      "+-----+----------------------+\n",
      "| true|                    52|\n",
      "|false|                   173|\n",
      "+-----+----------------------+\n",
      "\n"
     ]
    }
   ],
   "source": [
    "def create_churn(df):\n",
    "    '''\n",
    "    Create a column 'Churn' to use as the label for the model. \n",
    "    '''\n",
    "    \n",
    "    churned_users = df.where(df.page == 'Cancellation Confirmation').select('userId').distinct()\n",
    "    churned_users_list = list(churned_users.select('userId').toPandas()['userId'])\n",
    "    df = df.withColumn('Churn', df.userId.isin(churned_users_list))\n",
    "    \n",
    "    return df\n",
    "df = create_churn(df)\n",
    "df.groupby(df.Churn).agg(countDistinct('userId')).show()"
   ]
  },
  {
   "cell_type": "markdown",
   "metadata": {},
   "source": [
    "### Explore Data\n",
    "Once you've defined churn, perform some exploratory data analysis to observe the behavior for users who stayed vs users who churned. You can start by exploring aggregates on these two groups of users, observing how much of a specific action they experienced per a certain time unit or number of songs played."
   ]
  },
  {
   "cell_type": "code",
   "execution_count": 10,
   "metadata": {
    "scrolled": true
   },
   "outputs": [
    {
     "data": {
      "text/html": [
       "<div>\n",
       "<style scoped>\n",
       "    .dataframe tbody tr th:only-of-type {\n",
       "        vertical-align: middle;\n",
       "    }\n",
       "\n",
       "    .dataframe tbody tr th {\n",
       "        vertical-align: top;\n",
       "    }\n",
       "\n",
       "    .dataframe thead th {\n",
       "        text-align: right;\n",
       "    }\n",
       "</style>\n",
       "<table border=\"1\" class=\"dataframe\">\n",
       "  <thead>\n",
       "    <tr style=\"text-align: right;\">\n",
       "      <th></th>\n",
       "      <th>artist</th>\n",
       "      <th>auth</th>\n",
       "      <th>firstName</th>\n",
       "      <th>gender</th>\n",
       "      <th>itemInSession</th>\n",
       "      <th>lastName</th>\n",
       "      <th>length</th>\n",
       "      <th>level</th>\n",
       "      <th>location</th>\n",
       "      <th>method</th>\n",
       "      <th>page</th>\n",
       "      <th>registration</th>\n",
       "      <th>sessionId</th>\n",
       "      <th>song</th>\n",
       "      <th>status</th>\n",
       "      <th>ts</th>\n",
       "      <th>userAgent</th>\n",
       "      <th>userId</th>\n",
       "      <th>Churn</th>\n",
       "    </tr>\n",
       "  </thead>\n",
       "  <tbody>\n",
       "    <tr>\n",
       "      <th>0</th>\n",
       "      <td>Martha Tilston</td>\n",
       "      <td>Logged In</td>\n",
       "      <td>Colin</td>\n",
       "      <td>M</td>\n",
       "      <td>50</td>\n",
       "      <td>Freeman</td>\n",
       "      <td>277.89016</td>\n",
       "      <td>paid</td>\n",
       "      <td>Bakersfield, CA</td>\n",
       "      <td>PUT</td>\n",
       "      <td>NextSong</td>\n",
       "      <td>1538173362000</td>\n",
       "      <td>29</td>\n",
       "      <td>Rockpools</td>\n",
       "      <td>200</td>\n",
       "      <td>1538352117000</td>\n",
       "      <td>Mozilla/5.0 (Windows NT 6.1; WOW64; rv:31.0) G...</td>\n",
       "      <td>30</td>\n",
       "      <td>False</td>\n",
       "    </tr>\n",
       "    <tr>\n",
       "      <th>1</th>\n",
       "      <td>Five Iron Frenzy</td>\n",
       "      <td>Logged In</td>\n",
       "      <td>Micah</td>\n",
       "      <td>M</td>\n",
       "      <td>79</td>\n",
       "      <td>Long</td>\n",
       "      <td>236.09424</td>\n",
       "      <td>free</td>\n",
       "      <td>Boston-Cambridge-Newton, MA-NH</td>\n",
       "      <td>PUT</td>\n",
       "      <td>NextSong</td>\n",
       "      <td>1538331630000</td>\n",
       "      <td>8</td>\n",
       "      <td>Canada</td>\n",
       "      <td>200</td>\n",
       "      <td>1538352180000</td>\n",
       "      <td>\"Mozilla/5.0 (Windows NT 6.1; WOW64) AppleWebK...</td>\n",
       "      <td>9</td>\n",
       "      <td>False</td>\n",
       "    </tr>\n",
       "    <tr>\n",
       "      <th>2</th>\n",
       "      <td>Adam Lambert</td>\n",
       "      <td>Logged In</td>\n",
       "      <td>Colin</td>\n",
       "      <td>M</td>\n",
       "      <td>51</td>\n",
       "      <td>Freeman</td>\n",
       "      <td>282.82730</td>\n",
       "      <td>paid</td>\n",
       "      <td>Bakersfield, CA</td>\n",
       "      <td>PUT</td>\n",
       "      <td>NextSong</td>\n",
       "      <td>1538173362000</td>\n",
       "      <td>29</td>\n",
       "      <td>Time For Miracles</td>\n",
       "      <td>200</td>\n",
       "      <td>1538352394000</td>\n",
       "      <td>Mozilla/5.0 (Windows NT 6.1; WOW64; rv:31.0) G...</td>\n",
       "      <td>30</td>\n",
       "      <td>False</td>\n",
       "    </tr>\n",
       "    <tr>\n",
       "      <th>3</th>\n",
       "      <td>Enigma</td>\n",
       "      <td>Logged In</td>\n",
       "      <td>Micah</td>\n",
       "      <td>M</td>\n",
       "      <td>80</td>\n",
       "      <td>Long</td>\n",
       "      <td>262.71302</td>\n",
       "      <td>free</td>\n",
       "      <td>Boston-Cambridge-Newton, MA-NH</td>\n",
       "      <td>PUT</td>\n",
       "      <td>NextSong</td>\n",
       "      <td>1538331630000</td>\n",
       "      <td>8</td>\n",
       "      <td>Knocking On Forbidden Doors</td>\n",
       "      <td>200</td>\n",
       "      <td>1538352416000</td>\n",
       "      <td>\"Mozilla/5.0 (Windows NT 6.1; WOW64) AppleWebK...</td>\n",
       "      <td>9</td>\n",
       "      <td>False</td>\n",
       "    </tr>\n",
       "    <tr>\n",
       "      <th>4</th>\n",
       "      <td>Daft Punk</td>\n",
       "      <td>Logged In</td>\n",
       "      <td>Colin</td>\n",
       "      <td>M</td>\n",
       "      <td>52</td>\n",
       "      <td>Freeman</td>\n",
       "      <td>223.60771</td>\n",
       "      <td>paid</td>\n",
       "      <td>Bakersfield, CA</td>\n",
       "      <td>PUT</td>\n",
       "      <td>NextSong</td>\n",
       "      <td>1538173362000</td>\n",
       "      <td>29</td>\n",
       "      <td>Harder Better Faster Stronger</td>\n",
       "      <td>200</td>\n",
       "      <td>1538352676000</td>\n",
       "      <td>Mozilla/5.0 (Windows NT 6.1; WOW64; rv:31.0) G...</td>\n",
       "      <td>30</td>\n",
       "      <td>False</td>\n",
       "    </tr>\n",
       "  </tbody>\n",
       "</table>\n",
       "</div>"
      ],
      "text/plain": [
       "             artist       auth firstName gender  itemInSession lastName  \\\n",
       "0    Martha Tilston  Logged In     Colin      M             50  Freeman   \n",
       "1  Five Iron Frenzy  Logged In     Micah      M             79     Long   \n",
       "2      Adam Lambert  Logged In     Colin      M             51  Freeman   \n",
       "3            Enigma  Logged In     Micah      M             80     Long   \n",
       "4         Daft Punk  Logged In     Colin      M             52  Freeman   \n",
       "\n",
       "      length level                        location method      page  \\\n",
       "0  277.89016  paid                 Bakersfield, CA    PUT  NextSong   \n",
       "1  236.09424  free  Boston-Cambridge-Newton, MA-NH    PUT  NextSong   \n",
       "2  282.82730  paid                 Bakersfield, CA    PUT  NextSong   \n",
       "3  262.71302  free  Boston-Cambridge-Newton, MA-NH    PUT  NextSong   \n",
       "4  223.60771  paid                 Bakersfield, CA    PUT  NextSong   \n",
       "\n",
       "    registration  sessionId                           song  status  \\\n",
       "0  1538173362000         29                      Rockpools     200   \n",
       "1  1538331630000          8                         Canada     200   \n",
       "2  1538173362000         29              Time For Miracles     200   \n",
       "3  1538331630000          8    Knocking On Forbidden Doors     200   \n",
       "4  1538173362000         29  Harder Better Faster Stronger     200   \n",
       "\n",
       "              ts                                          userAgent userId  \\\n",
       "0  1538352117000  Mozilla/5.0 (Windows NT 6.1; WOW64; rv:31.0) G...     30   \n",
       "1  1538352180000  \"Mozilla/5.0 (Windows NT 6.1; WOW64) AppleWebK...      9   \n",
       "2  1538352394000  Mozilla/5.0 (Windows NT 6.1; WOW64; rv:31.0) G...     30   \n",
       "3  1538352416000  \"Mozilla/5.0 (Windows NT 6.1; WOW64) AppleWebK...      9   \n",
       "4  1538352676000  Mozilla/5.0 (Windows NT 6.1; WOW64; rv:31.0) G...     30   \n",
       "\n",
       "   Churn  \n",
       "0  False  \n",
       "1  False  \n",
       "2  False  \n",
       "3  False  \n",
       "4  False  "
      ]
     },
     "execution_count": 10,
     "metadata": {},
     "output_type": "execute_result"
    }
   ],
   "source": [
    "pd.DataFrame(df.take(5), columns=df.columns).head()"
   ]
  },
  {
   "cell_type": "code",
   "execution_count": 58,
   "metadata": {},
   "outputs": [
    {
     "data": {
      "text/html": [
       "<div>\n",
       "<style scoped>\n",
       "    .dataframe tbody tr th:only-of-type {\n",
       "        vertical-align: middle;\n",
       "    }\n",
       "\n",
       "    .dataframe tbody tr th {\n",
       "        vertical-align: top;\n",
       "    }\n",
       "\n",
       "    .dataframe thead th {\n",
       "        text-align: right;\n",
       "    }\n",
       "</style>\n",
       "<table border=\"1\" class=\"dataframe\">\n",
       "  <thead>\n",
       "    <tr style=\"text-align: right;\">\n",
       "      <th></th>\n",
       "      <th>song</th>\n",
       "      <th>count</th>\n",
       "    </tr>\n",
       "  </thead>\n",
       "  <tbody>\n",
       "    <tr>\n",
       "      <th>12660</th>\n",
       "      <td>None</td>\n",
       "      <td>50046</td>\n",
       "    </tr>\n",
       "    <tr>\n",
       "      <th>15878</th>\n",
       "      <td>You're The One</td>\n",
       "      <td>1153</td>\n",
       "    </tr>\n",
       "    <tr>\n",
       "      <th>7939</th>\n",
       "      <td>Undo</td>\n",
       "      <td>1026</td>\n",
       "    </tr>\n",
       "    <tr>\n",
       "      <th>27713</th>\n",
       "      <td>Revelry</td>\n",
       "      <td>854</td>\n",
       "    </tr>\n",
       "    <tr>\n",
       "      <th>7941</th>\n",
       "      <td>Sehr kosmisch</td>\n",
       "      <td>728</td>\n",
       "    </tr>\n",
       "    <tr>\n",
       "      <th>16473</th>\n",
       "      <td>Horn Concerto No. 4 in E flat K495: II. Romanc...</td>\n",
       "      <td>641</td>\n",
       "    </tr>\n",
       "    <tr>\n",
       "      <th>50589</th>\n",
       "      <td>Dog Days Are Over (Radio Edit)</td>\n",
       "      <td>574</td>\n",
       "    </tr>\n",
       "    <tr>\n",
       "      <th>49350</th>\n",
       "      <td>Secrets</td>\n",
       "      <td>466</td>\n",
       "    </tr>\n",
       "    <tr>\n",
       "      <th>48435</th>\n",
       "      <td>Use Somebody</td>\n",
       "      <td>459</td>\n",
       "    </tr>\n",
       "    <tr>\n",
       "      <th>44042</th>\n",
       "      <td>Canada</td>\n",
       "      <td>435</td>\n",
       "    </tr>\n",
       "  </tbody>\n",
       "</table>\n",
       "</div>"
      ],
      "text/plain": [
       "                                                    song  count\n",
       "12660                                               None  50046\n",
       "15878                                     You're The One   1153\n",
       "7939                                                Undo   1026\n",
       "27713                                            Revelry    854\n",
       "7941                                       Sehr kosmisch    728\n",
       "16473  Horn Concerto No. 4 in E flat K495: II. Romanc...    641\n",
       "50589                     Dog Days Are Over (Radio Edit)    574\n",
       "49350                                            Secrets    466\n",
       "48435                                       Use Somebody    459\n",
       "44042                                             Canada    435"
      ]
     },
     "execution_count": 58,
     "metadata": {},
     "output_type": "execute_result"
    }
   ],
   "source": [
    "song = df.select('song').groupBy('song').count()\n",
    "song=song.toPandas()\n",
    "song.sort_values(by=['count'],inplace=True,ascending=False)\n",
    "song=song.nlargest(10,['count'])\n",
    "song"
   ]
  },
  {
   "cell_type": "code",
   "execution_count": 59,
   "metadata": {},
   "outputs": [
    {
     "data": {
      "text/plain": [
       "(array([0, 1, 2, 3, 4, 5, 6, 7, 8]), <a list of 9 Text xticklabel objects>)"
      ]
     },
     "execution_count": 59,
     "metadata": {},
     "output_type": "execute_result"
    },
    {
     "data": {
      "image/png": "[encoded data removed]",
      "text/plain": [
       "<matplotlib.figure.Figure at 0x7f9ee2fb0e10>"
      ]
     },
     "metadata": {
      "needs_background": "light"
     },
     "output_type": "display_data"
    }
   ],
   "source": [
    "plt.figure(figsize=(8,6))\n",
    "sns.barplot(x='song', y='count', data=song)\n",
    "plt.xticks(rotation=90)"
   ]
  },
  {
   "cell_type": "code",
   "execution_count": 11,
   "metadata": {},
   "outputs": [
    {
     "data": {
      "text/html": [
       "<div>\n",
       "<style scoped>\n",
       "    .dataframe tbody tr th:only-of-type {\n",
       "        vertical-align: middle;\n",
       "    }\n",
       "\n",
       "    .dataframe tbody tr th {\n",
       "        vertical-align: top;\n",
       "    }\n",
       "\n",
       "    .dataframe thead th {\n",
       "        text-align: right;\n",
       "    }\n",
       "</style>\n",
       "<table border=\"1\" class=\"dataframe\">\n",
       "  <thead>\n",
       "    <tr style=\"text-align: right;\">\n",
       "      <th></th>\n",
       "      <th>Churn</th>\n",
       "      <th>gender</th>\n",
       "      <th>count(DISTINCT userId)</th>\n",
       "    </tr>\n",
       "  </thead>\n",
       "  <tbody>\n",
       "    <tr>\n",
       "      <th>0</th>\n",
       "      <td>True</td>\n",
       "      <td>F</td>\n",
       "      <td>20</td>\n",
       "    </tr>\n",
       "    <tr>\n",
       "      <th>3</th>\n",
       "      <td>False</td>\n",
       "      <td>F</td>\n",
       "      <td>84</td>\n",
       "    </tr>\n",
       "    <tr>\n",
       "      <th>1</th>\n",
       "      <td>False</td>\n",
       "      <td>M</td>\n",
       "      <td>89</td>\n",
       "    </tr>\n",
       "    <tr>\n",
       "      <th>2</th>\n",
       "      <td>True</td>\n",
       "      <td>M</td>\n",
       "      <td>32</td>\n",
       "    </tr>\n",
       "  </tbody>\n",
       "</table>\n",
       "</div>"
      ],
      "text/plain": [
       "   Churn gender  count(DISTINCT userId)\n",
       "0   True      F                      20\n",
       "3  False      F                      84\n",
       "1  False      M                      89\n",
       "2   True      M                      32"
      ]
     },
     "execution_count": 11,
     "metadata": {},
     "output_type": "execute_result"
    }
   ],
   "source": [
    "# churn by gender\n",
    "gender = df.groupby(df.Churn, df.gender).agg(countDistinct('userId')).toPandas()\n",
    "gender.sort_values(by='gender')"
   ]
  },
  {
   "cell_type": "code",
   "execution_count": 12,
   "metadata": {
    "scrolled": true
   },
   "outputs": [
    {
     "data": {
      "image/png": "[encoded data removed]",
      "text/plain": [
       "<matplotlib.figure.Figure at 0x7f9f20b8eda0>"
      ]
     },
     "metadata": {
      "needs_background": "light"
     },
     "output_type": "display_data"
    }
   ],
   "source": [
    "plt.rcParams[\"figure.figsize\"] = (9,6)\n",
    "gender.pivot(index='gender', columns='Churn', values = 'count(DISTINCT userId)').plot(kind='bar');"
   ]
  },
  {
   "cell_type": "code",
   "execution_count": 13,
   "metadata": {
    "scrolled": true
   },
   "outputs": [
    {
     "data": {
      "text/html": [
       "<div>\n",
       "<style scoped>\n",
       "    .dataframe tbody tr th:only-of-type {\n",
       "        vertical-align: middle;\n",
       "    }\n",
       "\n",
       "    .dataframe tbody tr th {\n",
       "        vertical-align: top;\n",
       "    }\n",
       "\n",
       "    .dataframe thead th {\n",
       "        text-align: right;\n",
       "    }\n",
       "</style>\n",
       "<table border=\"1\" class=\"dataframe\">\n",
       "  <thead>\n",
       "    <tr style=\"text-align: right;\">\n",
       "      <th></th>\n",
       "      <th>Churn</th>\n",
       "      <th>level</th>\n",
       "      <th>count(DISTINCT userId)</th>\n",
       "    </tr>\n",
       "  </thead>\n",
       "  <tbody>\n",
       "    <tr>\n",
       "      <th>0</th>\n",
       "      <td>False</td>\n",
       "      <td>free</td>\n",
       "      <td>149</td>\n",
       "    </tr>\n",
       "    <tr>\n",
       "      <th>3</th>\n",
       "      <td>True</td>\n",
       "      <td>free</td>\n",
       "      <td>46</td>\n",
       "    </tr>\n",
       "    <tr>\n",
       "      <th>1</th>\n",
       "      <td>False</td>\n",
       "      <td>paid</td>\n",
       "      <td>129</td>\n",
       "    </tr>\n",
       "    <tr>\n",
       "      <th>2</th>\n",
       "      <td>True</td>\n",
       "      <td>paid</td>\n",
       "      <td>36</td>\n",
       "    </tr>\n",
       "  </tbody>\n",
       "</table>\n",
       "</div>"
      ],
      "text/plain": [
       "   Churn level  count(DISTINCT userId)\n",
       "0  False  free                     149\n",
       "3   True  free                      46\n",
       "1  False  paid                     129\n",
       "2   True  paid                      36"
      ]
     },
     "execution_count": 13,
     "metadata": {},
     "output_type": "execute_result"
    }
   ],
   "source": [
    "# churn by level\n",
    "level = df.groupby(df.Churn, df.level).agg(countDistinct('userId')).toPandas()\n",
    "level.sort_values(by='level')"
   ]
  },
  {
   "cell_type": "code",
   "execution_count": 14,
   "metadata": {
    "scrolled": true
   },
   "outputs": [
    {
     "data": {
      "image/png": "[encoded data removed]",
      "text/plain": [
       "<matplotlib.figure.Figure at 0x7f9ef46d4080>"
      ]
     },
     "metadata": {
      "needs_background": "light"
     },
     "output_type": "display_data"
    }
   ],
   "source": [
    "plt.rcParams[\"figure.figsize\"] = (9,6)\n",
    "level.pivot(index='level', columns='Churn', values = 'count(DISTINCT userId)').plot(kind='bar');"
   ]
  },
  {
   "cell_type": "code",
   "execution_count": 15,
   "metadata": {
    "scrolled": true
   },
   "outputs": [
    {
     "name": "stdout",
     "output_type": "stream",
     "text": [
      "+-----+---------+-------------------------+\n",
      "|Churn|     auth|count(DISTINCT sessionId)|\n",
      "+-----+---------+-------------------------+\n",
      "| true|Cancelled|                       52|\n",
      "|false|Logged In|                     2110|\n",
      "| true|Logged In|                      468|\n",
      "+-----+---------+-------------------------+\n",
      "\n",
      "+-----+------------------+\n",
      "|Churn|avg(itemInSession)|\n",
      "+-----+------------------+\n",
      "| true|109.23299304564907|\n",
      "|false| 115.9888465000643|\n",
      "+-----+------------------+\n",
      "\n",
      "+-----+------------------+\n",
      "|Churn|       avg(length)|\n",
      "+-----+------------------+\n",
      "| true|248.63279564406366|\n",
      "|false|249.20913538881427|\n",
      "+-----+------------------+\n",
      "\n",
      "+-----+------+-------------------------+\n",
      "|Churn|method|count(DISTINCT sessionId)|\n",
      "+-----+------+-------------------------+\n",
      "|false|   PUT|                     2059|\n",
      "| true|   PUT|                      457|\n",
      "|false|   GET|                     2009|\n",
      "| true|   GET|                      450|\n",
      "+-----+------+-------------------------+\n",
      "\n"
     ]
    }
   ],
   "source": [
    "# activity analysis\n",
    "df.groupby(df.Churn, df.auth).agg(countDistinct('sessionId')).show()\n",
    "df.groupby(df.Churn).agg(avg('itemInSession')).show()\n",
    "df.groupby(df.Churn).agg(avg('length')).show()\n",
    "df.groupby(df.Churn, df.method).agg(countDistinct('sessionId')).show()"
   ]
  },
  {
   "cell_type": "code",
   "execution_count": 16,
   "metadata": {
    "scrolled": true
   },
   "outputs": [
    {
     "data": {
      "text/html": [
       "<div>\n",
       "<style scoped>\n",
       "    .dataframe tbody tr th:only-of-type {\n",
       "        vertical-align: middle;\n",
       "    }\n",
       "\n",
       "    .dataframe tbody tr th {\n",
       "        vertical-align: top;\n",
       "    }\n",
       "\n",
       "    .dataframe thead th {\n",
       "        text-align: right;\n",
       "    }\n",
       "</style>\n",
       "<table border=\"1\" class=\"dataframe\">\n",
       "  <thead>\n",
       "    <tr style=\"text-align: right;\">\n",
       "      <th></th>\n",
       "      <th>page</th>\n",
       "      <th>Churn</th>\n",
       "      <th>count(DISTINCT sessionId)</th>\n",
       "    </tr>\n",
       "  </thead>\n",
       "  <tbody>\n",
       "    <tr>\n",
       "      <th>0</th>\n",
       "      <td>About</td>\n",
       "      <td>False</td>\n",
       "      <td>359</td>\n",
       "    </tr>\n",
       "    <tr>\n",
       "      <th>1</th>\n",
       "      <td>About</td>\n",
       "      <td>True</td>\n",
       "      <td>49</td>\n",
       "    </tr>\n",
       "    <tr>\n",
       "      <th>2</th>\n",
       "      <td>Add Friend</td>\n",
       "      <td>False</td>\n",
       "      <td>1121</td>\n",
       "    </tr>\n",
       "    <tr>\n",
       "      <th>3</th>\n",
       "      <td>Add Friend</td>\n",
       "      <td>True</td>\n",
       "      <td>229</td>\n",
       "    </tr>\n",
       "    <tr>\n",
       "      <th>4</th>\n",
       "      <td>Add to Playlist</td>\n",
       "      <td>False</td>\n",
       "      <td>1434</td>\n",
       "    </tr>\n",
       "    <tr>\n",
       "      <th>5</th>\n",
       "      <td>Add to Playlist</td>\n",
       "      <td>True</td>\n",
       "      <td>299</td>\n",
       "    </tr>\n",
       "    <tr>\n",
       "      <th>6</th>\n",
       "      <td>Cancel</td>\n",
       "      <td>True</td>\n",
       "      <td>52</td>\n",
       "    </tr>\n",
       "    <tr>\n",
       "      <th>7</th>\n",
       "      <td>Cancellation Confirmation</td>\n",
       "      <td>True</td>\n",
       "      <td>52</td>\n",
       "    </tr>\n",
       "    <tr>\n",
       "      <th>8</th>\n",
       "      <td>Downgrade</td>\n",
       "      <td>False</td>\n",
       "      <td>762</td>\n",
       "    </tr>\n",
       "    <tr>\n",
       "      <th>9</th>\n",
       "      <td>Downgrade</td>\n",
       "      <td>True</td>\n",
       "      <td>150</td>\n",
       "    </tr>\n",
       "    <tr>\n",
       "      <th>10</th>\n",
       "      <td>Error</td>\n",
       "      <td>False</td>\n",
       "      <td>195</td>\n",
       "    </tr>\n",
       "    <tr>\n",
       "      <th>11</th>\n",
       "      <td>Error</td>\n",
       "      <td>True</td>\n",
       "      <td>30</td>\n",
       "    </tr>\n",
       "    <tr>\n",
       "      <th>12</th>\n",
       "      <td>Help</td>\n",
       "      <td>False</td>\n",
       "      <td>727</td>\n",
       "    </tr>\n",
       "    <tr>\n",
       "      <th>13</th>\n",
       "      <td>Help</td>\n",
       "      <td>True</td>\n",
       "      <td>162</td>\n",
       "    </tr>\n",
       "    <tr>\n",
       "      <th>14</th>\n",
       "      <td>Home</td>\n",
       "      <td>False</td>\n",
       "      <td>1867</td>\n",
       "    </tr>\n",
       "    <tr>\n",
       "      <th>15</th>\n",
       "      <td>Home</td>\n",
       "      <td>True</td>\n",
       "      <td>409</td>\n",
       "    </tr>\n",
       "    <tr>\n",
       "      <th>16</th>\n",
       "      <td>Logout</td>\n",
       "      <td>False</td>\n",
       "      <td>1247</td>\n",
       "    </tr>\n",
       "    <tr>\n",
       "      <th>17</th>\n",
       "      <td>Logout</td>\n",
       "      <td>True</td>\n",
       "      <td>266</td>\n",
       "    </tr>\n",
       "    <tr>\n",
       "      <th>18</th>\n",
       "      <td>NextSong</td>\n",
       "      <td>False</td>\n",
       "      <td>2054</td>\n",
       "    </tr>\n",
       "    <tr>\n",
       "      <th>19</th>\n",
       "      <td>NextSong</td>\n",
       "      <td>True</td>\n",
       "      <td>456</td>\n",
       "    </tr>\n",
       "    <tr>\n",
       "      <th>20</th>\n",
       "      <td>Roll Advert</td>\n",
       "      <td>False</td>\n",
       "      <td>841</td>\n",
       "    </tr>\n",
       "    <tr>\n",
       "      <th>21</th>\n",
       "      <td>Roll Advert</td>\n",
       "      <td>True</td>\n",
       "      <td>227</td>\n",
       "    </tr>\n",
       "    <tr>\n",
       "      <th>22</th>\n",
       "      <td>Save Settings</td>\n",
       "      <td>False</td>\n",
       "      <td>220</td>\n",
       "    </tr>\n",
       "    <tr>\n",
       "      <th>23</th>\n",
       "      <td>Save Settings</td>\n",
       "      <td>True</td>\n",
       "      <td>53</td>\n",
       "    </tr>\n",
       "    <tr>\n",
       "      <th>24</th>\n",
       "      <td>Settings</td>\n",
       "      <td>False</td>\n",
       "      <td>717</td>\n",
       "    </tr>\n",
       "    <tr>\n",
       "      <th>25</th>\n",
       "      <td>Settings</td>\n",
       "      <td>True</td>\n",
       "      <td>160</td>\n",
       "    </tr>\n",
       "    <tr>\n",
       "      <th>26</th>\n",
       "      <td>Submit Downgrade</td>\n",
       "      <td>False</td>\n",
       "      <td>52</td>\n",
       "    </tr>\n",
       "    <tr>\n",
       "      <th>27</th>\n",
       "      <td>Submit Downgrade</td>\n",
       "      <td>True</td>\n",
       "      <td>9</td>\n",
       "    </tr>\n",
       "    <tr>\n",
       "      <th>28</th>\n",
       "      <td>Submit Upgrade</td>\n",
       "      <td>False</td>\n",
       "      <td>123</td>\n",
       "    </tr>\n",
       "    <tr>\n",
       "      <th>29</th>\n",
       "      <td>Submit Upgrade</td>\n",
       "      <td>True</td>\n",
       "      <td>32</td>\n",
       "    </tr>\n",
       "    <tr>\n",
       "      <th>30</th>\n",
       "      <td>Thumbs Down</td>\n",
       "      <td>False</td>\n",
       "      <td>977</td>\n",
       "    </tr>\n",
       "    <tr>\n",
       "      <th>31</th>\n",
       "      <td>Thumbs Down</td>\n",
       "      <td>True</td>\n",
       "      <td>235</td>\n",
       "    </tr>\n",
       "    <tr>\n",
       "      <th>32</th>\n",
       "      <td>Thumbs Up</td>\n",
       "      <td>False</td>\n",
       "      <td>1690</td>\n",
       "    </tr>\n",
       "    <tr>\n",
       "      <th>33</th>\n",
       "      <td>Thumbs Up</td>\n",
       "      <td>True</td>\n",
       "      <td>365</td>\n",
       "    </tr>\n",
       "    <tr>\n",
       "      <th>34</th>\n",
       "      <td>Upgrade</td>\n",
       "      <td>False</td>\n",
       "      <td>290</td>\n",
       "    </tr>\n",
       "    <tr>\n",
       "      <th>35</th>\n",
       "      <td>Upgrade</td>\n",
       "      <td>True</td>\n",
       "      <td>85</td>\n",
       "    </tr>\n",
       "  </tbody>\n",
       "</table>\n",
       "</div>"
      ],
      "text/plain": [
       "                         page  Churn  count(DISTINCT sessionId)\n",
       "0                       About  False                        359\n",
       "1                       About   True                         49\n",
       "2                  Add Friend  False                       1121\n",
       "3                  Add Friend   True                        229\n",
       "4             Add to Playlist  False                       1434\n",
       "5             Add to Playlist   True                        299\n",
       "6                      Cancel   True                         52\n",
       "7   Cancellation Confirmation   True                         52\n",
       "8                   Downgrade  False                        762\n",
       "9                   Downgrade   True                        150\n",
       "10                      Error  False                        195\n",
       "11                      Error   True                         30\n",
       "12                       Help  False                        727\n",
       "13                       Help   True                        162\n",
       "14                       Home  False                       1867\n",
       "15                       Home   True                        409\n",
       "16                     Logout  False                       1247\n",
       "17                     Logout   True                        266\n",
       "18                   NextSong  False                       2054\n",
       "19                   NextSong   True                        456\n",
       "20                Roll Advert  False                        841\n",
       "21                Roll Advert   True                        227\n",
       "22              Save Settings  False                        220\n",
       "23              Save Settings   True                         53\n",
       "24                   Settings  False                        717\n",
       "25                   Settings   True                        160\n",
       "26           Submit Downgrade  False                         52\n",
       "27           Submit Downgrade   True                          9\n",
       "28             Submit Upgrade  False                        123\n",
       "29             Submit Upgrade   True                         32\n",
       "30                Thumbs Down  False                        977\n",
       "31                Thumbs Down   True                        235\n",
       "32                  Thumbs Up  False                       1690\n",
       "33                  Thumbs Up   True                        365\n",
       "34                    Upgrade  False                        290\n",
       "35                    Upgrade   True                         85"
      ]
     },
     "execution_count": 16,
     "metadata": {},
     "output_type": "execute_result"
    }
   ],
   "source": [
    "activity = df.groupby(df.page, df.Churn).agg(countDistinct('sessionId')).sort('page', 'Churn').toPandas()\n",
    "activity"
   ]
  },
  {
   "cell_type": "code",
   "execution_count": 17,
   "metadata": {},
   "outputs": [
    {
     "data": {
      "text/plain": [
       "<matplotlib.axes._subplots.AxesSubplot at 0x7f9ef45f0cc0>"
      ]
     },
     "execution_count": 17,
     "metadata": {},
     "output_type": "execute_result"
    },
    {
     "data": {
      "image/png": "[encoded data removed]",
      "text/plain": [
       "<matplotlib.figure.Figure at 0x7f9ef670d240>"
      ]
     },
     "metadata": {
      "needs_background": "light"
     },
     "output_type": "display_data"
    }
   ],
   "source": [
    "plt.rcParams[\"figure.figsize\"] = (25,15)\n",
    "sns.barplot(data = activity, x = 'page', y = 'count(DISTINCT sessionId)',hue='Churn')\n"
   ]
  },
  {
   "cell_type": "markdown",
   "metadata": {},
   "source": [
    "# Feature Engineering\n",
    "Once you've familiarized yourself with the data, build out the features you find promising to train your model on. To work with the full dataset, you can follow the following steps.\n",
    "- Write a script to extract the necessary features from the smaller subset of data\n",
    "- Ensure that your script is scalable, using the best practices discussed in Lesson 3\n",
    "- Try your script on the full data set, debugging your script if necessary\n",
    "\n",
    "If you are working in the classroom workspace, you can just extract features based on the small subset of data contained here. Be sure to transfer over this work to the larger dataset when you work on your Spark cluster."
   ]
  },
  {
   "cell_type": "code",
   "execution_count": 18,
   "metadata": {},
   "outputs": [
    {
     "name": "stdout",
     "output_type": "stream",
     "text": [
      "+------+---------+\n",
      "|userId|tot_songs|\n",
      "+------+---------+\n",
      "|100010|      381|\n",
      "|200002|      474|\n",
      "|   125|       11|\n",
      "|    51|     2464|\n",
      "|   124|     4825|\n",
      "|     7|      201|\n",
      "|    54|     3437|\n",
      "|    15|     2278|\n",
      "|   155|     1002|\n",
      "|   132|     2304|\n",
      "|   154|      118|\n",
      "|100014|      310|\n",
      "|   101|     2149|\n",
      "|    11|      848|\n",
      "|   138|     2469|\n",
      "|300017|     4428|\n",
      "|    29|     3603|\n",
      "|    69|     1342|\n",
      "|100021|      319|\n",
      "|    42|     4257|\n",
      "+------+---------+\n",
      "only showing top 20 rows\n",
      "\n",
      "+------+-------------+\n",
      "|userId|tot_thumbs_up|\n",
      "+------+-------------+\n",
      "|100010|           17|\n",
      "|200002|           21|\n",
      "|    51|          100|\n",
      "|   124|          171|\n",
      "|     7|            7|\n",
      "|    54|          163|\n",
      "|    15|           81|\n",
      "|   155|           58|\n",
      "|   132|           96|\n",
      "|   154|           11|\n",
      "|100014|           17|\n",
      "|   101|           86|\n",
      "|    11|           40|\n",
      "|   138|           95|\n",
      "|300017|          303|\n",
      "|    29|          154|\n",
      "|    69|           72|\n",
      "|100021|           11|\n",
      "|    42|          166|\n",
      "|   112|            9|\n",
      "+------+-------------+\n",
      "only showing top 20 rows\n",
      "\n",
      "+------+---------------+\n",
      "|userId|tot_thumbs_down|\n",
      "+------+---------------+\n",
      "|100010|              5|\n",
      "|200002|              6|\n",
      "|    51|             21|\n",
      "|   124|             41|\n",
      "|     7|              1|\n",
      "|    15|             14|\n",
      "|    54|             29|\n",
      "|   155|              3|\n",
      "|   132|             17|\n",
      "|100014|              3|\n",
      "|   101|             16|\n",
      "|    11|              9|\n",
      "|   138|             24|\n",
      "|300017|             28|\n",
      "|    29|             22|\n",
      "|    69|              9|\n",
      "|100021|              5|\n",
      "|    42|             25|\n",
      "|   112|              3|\n",
      "|    73|              7|\n",
      "+------+---------------+\n",
      "only showing top 20 rows\n",
      "\n",
      "+------+------------------+\n",
      "|userId|      tot_lifetime|\n",
      "+------+------------------+\n",
      "|100010|  55.6436574074074|\n",
      "|200002| 70.07462962962963|\n",
      "|   125| 71.31688657407408|\n",
      "|    51|19.455844907407407|\n",
      "|   124|131.55591435185184|\n",
      "|     7| 72.77818287037037|\n",
      "|    54|110.75168981481481|\n",
      "|    15|56.513576388888886|\n",
      "|   155|23.556018518518517|\n",
      "|   132|  66.8891087962963|\n",
      "|   154|23.872037037037035|\n",
      "|100014| 85.08340277777778|\n",
      "|   101|53.965937499999995|\n",
      "|    11|124.47825231481481|\n",
      "|   138| 66.62668981481481|\n",
      "|300017| 74.35851851851852|\n",
      "|    29|60.104050925925925|\n",
      "|    69| 71.42444444444445|\n",
      "|100021| 64.73886574074074|\n",
      "|    42| 67.11364583333334|\n",
      "+------+------------------+\n",
      "only showing top 20 rows\n",
      "\n",
      "+------+------------------+\n",
      "|userId|   tot_listen_time|\n",
      "+------+------------------+\n",
      "|100010| 66940.89735000003|\n",
      "|200002| 94008.87593999993|\n",
      "|   125|2089.1131000000005|\n",
      "|    51| 523275.8428000004|\n",
      "|   124|1012312.0927899999|\n",
      "|     7| 38034.08710000002|\n",
      "|    54| 711344.9195400011|\n",
      "|    15|477307.60581000015|\n",
      "|   155|       198779.2919|\n",
      "|   132| 483118.9038399997|\n",
      "|   154|20660.023910000007|\n",
      "|100014| 67703.47208000004|\n",
      "|   101| 447464.0146699989|\n",
      "|    11|159669.96303999983|\n",
      "|   138| 512449.8827599989|\n",
      "|300017| 897406.9802100015|\n",
      "|    29| 754517.5625700009|\n",
      "|    69| 286064.0256399999|\n",
      "|100021| 57633.17563999999|\n",
      "|    42| 881792.9661300007|\n",
      "+------+------------------+\n",
      "only showing top 20 rows\n",
      "\n",
      "+------+-----------+\n",
      "|userId|tot_friends|\n",
      "+------+-----------+\n",
      "|100010|          4|\n",
      "|200002|          4|\n",
      "|    51|         28|\n",
      "|   124|         74|\n",
      "|     7|          1|\n",
      "|    54|         33|\n",
      "|    15|         31|\n",
      "|   155|         11|\n",
      "|   132|         41|\n",
      "|   154|          3|\n",
      "|100014|          6|\n",
      "|   101|         29|\n",
      "|    11|          6|\n",
      "|   138|         41|\n",
      "|300017|         63|\n",
      "|    29|         47|\n",
      "|    69|         12|\n",
      "|100021|          7|\n",
      "|    42|         52|\n",
      "|   112|          7|\n",
      "+------+-----------+\n",
      "only showing top 20 rows\n",
      "\n",
      "+------+------+\n",
      "|userId|gender|\n",
      "+------+------+\n",
      "|    44|     0|\n",
      "|    46|     0|\n",
      "|    41|     0|\n",
      "|    72|     0|\n",
      "|300023|     0|\n",
      "|    39|     0|\n",
      "|100010|     0|\n",
      "|    40|     0|\n",
      "|    94|     0|\n",
      "|    35|     0|\n",
      "|    75|     0|\n",
      "|   116|     0|\n",
      "|200001|     1|\n",
      "|200020|     1|\n",
      "|100008|     0|\n",
      "|200015|     1|\n",
      "|   100|     1|\n",
      "|100006|     0|\n",
      "|300005|     0|\n",
      "|    25|     0|\n",
      "+------+------+\n",
      "only showing top 20 rows\n",
      "\n",
      "+------+------------------+\n",
      "|userId|  avg_played_songs|\n",
      "+------+------------------+\n",
      "|100010|39.285714285714285|\n",
      "|200002|              64.5|\n",
      "|   125|               8.0|\n",
      "|    51|             211.1|\n",
      "|   124|145.67857142857142|\n",
      "|     7|21.428571428571427|\n",
      "|    54| 81.17142857142858|\n",
      "|    15|136.71428571428572|\n",
      "|   155|136.66666666666666|\n",
      "|100014|42.833333333333336|\n",
      "|   132|             120.5|\n",
      "|   154|              28.0|\n",
      "|   101|             179.7|\n",
      "|    11|           40.4375|\n",
      "|300017|59.540983606557376|\n",
      "|   138|             138.0|\n",
      "|    29| 89.05882352941177|\n",
      "|    69|             125.0|\n",
      "|100021|              46.0|\n",
      "|    42| 87.14634146341463|\n",
      "+------+------------------+\n",
      "only showing top 20 rows\n",
      "\n",
      "+------+-----------------+\n",
      "|userId|tot_artist_played|\n",
      "+------+-----------------+\n",
      "|100010|              252|\n",
      "|200002|              339|\n",
      "|   125|                8|\n",
      "|    51|             1385|\n",
      "|   124|             2232|\n",
      "|     7|              142|\n",
      "|    15|             1302|\n",
      "|    54|             1744|\n",
      "|   155|              643|\n",
      "|   132|             1299|\n",
      "|   154|               78|\n",
      "|100014|              233|\n",
      "|   101|             1241|\n",
      "|    11|              534|\n",
      "|   138|             1332|\n",
      "|300017|             2070|\n",
      "|    29|             1804|\n",
      "|    69|              865|\n",
      "|100021|              207|\n",
      "|    42|             2073|\n",
      "+------+-----------------+\n",
      "only showing top 20 rows\n",
      "\n",
      "+------+------+\n",
      "|userId|target|\n",
      "+------+------+\n",
      "|    19| false|\n",
      "|100005|  true|\n",
      "|200007| false|\n",
      "|300007|  true|\n",
      "|    50| false|\n",
      "|200002| false|\n",
      "|    30| false|\n",
      "|     8| false|\n",
      "|100011|  true|\n",
      "|100012|  true|\n",
      "|     4| false|\n",
      "|    65| false|\n",
      "|   101|  true|\n",
      "|    13| false|\n",
      "|   153| false|\n",
      "|    42| false|\n",
      "|100014|  true|\n",
      "|    94| false|\n",
      "|    62| false|\n",
      "|   114| false|\n",
      "+------+------+\n",
      "only showing top 20 rows\n",
      "\n"
     ]
    }
   ],
   "source": [
    "# Total number of  songs listened\n",
    "songs = df.select('userId', 'song').groupBy('userId').count().withColumnRenamed('count', 'tot_songs')\n",
    "songs.show()\n",
    "\n",
    "# Number of thumbs up\n",
    "thumbs_up = df.select('userId', 'page').where(df.page == 'Thumbs Up').groupBy('userId').count().withColumnRenamed('count', 'tot_thumbs_up')\n",
    "thumbs_up.show()\n",
    "\n",
    "# Number of thumbs down\n",
    "thumbs_down = df.select('userId', 'page').where(df.page == 'Thumbs Down').groupBy('userId').count().withColumnRenamed('count', 'tot_thumbs_down')\n",
    "thumbs_down.show()\n",
    "\n",
    "# Total time since registration\n",
    "period = df.select('userId', 'registration', 'ts').withColumn('tot_lifetime', (df.ts - df.registration))\\\n",
    "    .groupBy('userId').agg({'tot_lifetime' : 'max'})\\\n",
    "    .withColumnRenamed('max(tot_lifetime)', 'tot_lifetime')\\\n",
    "    .select('userId', (col('tot_lifetime')/1000/3600/24).alias('tot_lifetime'))\n",
    "period.show()\n",
    "\n",
    "# Total length of listening utilizing all services\n",
    "listen_period = df.select(\"userId\", 'length').groupBy('userId').sum().withColumnRenamed('sum(length)', 'tot_listen_time')\n",
    "listen_period.show()\n",
    "\n",
    "# Total number of friends\n",
    "friends = df.select('userId', 'page').where(df.page == 'Add Friend').groupBy('userId').count().withColumnRenamed('count', 'tot_friends')\n",
    "friends.show()\n",
    "\n",
    "# Gender of the user\n",
    "gender = df.select('userId', 'gender').dropDuplicates().replace(['F', 'M'], ['0', '1'], 'gender').select('userId', col('gender').cast('int'))\n",
    "gender.show()\n",
    "\n",
    "# Total number of songs listened per session\n",
    "songs_per_sess = df.where('page == \"NextSong\"').groupby(['userId', 'sessionId']).count().groupby('userId')\\\n",
    "          .agg({'count' : 'avg'}).withColumnRenamed('avg(count)', 'avg_played_songs')\n",
    "songs_per_sess.show()\n",
    "\n",
    "# Feature 9 : Total number of artists the user has listened to\n",
    "artist = df.filter(df.page == \"NextSong\").select(\"userId\", \"artist\").dropDuplicates().groupby(\"userId\").count()\\\n",
    "         .withColumnRenamed(\"count\", \"tot_artist_played\")\n",
    "artist.show()\n",
    "\n",
    "# setting the churn label for our model\n",
    "target = df.select('userId', col('Churn').alias('target')).dropDuplicates()\n",
    "target.show()"
   ]
  },
  {
   "cell_type": "code",
   "execution_count": 19,
   "metadata": {
    "scrolled": true
   },
   "outputs": [
    {
     "name": "stdout",
     "output_type": "stream",
     "text": [
      "+---------+-------------+---------------+------------------+------------------+-----------+------+------------------+-----------------+------+\n",
      "|tot_songs|tot_thumbs_up|tot_thumbs_down|      tot_lifetime|   tot_listen_time|tot_friends|gender|  avg_played_songs|tot_artist_played|target|\n",
      "+---------+-------------+---------------+------------------+------------------+-----------+------+------------------+-----------------+------+\n",
      "|      381|           17|              5|  55.6436574074074| 66940.89735000003|          4|     0|39.285714285714285|              252| false|\n",
      "|      474|           21|              6| 70.07462962962963| 94008.87593999993|          4|     1|              64.5|              339| false|\n",
      "|     2464|          100|             21|19.455844907407407| 523275.8428000004|         28|     1|             211.1|             1385|  true|\n",
      "|     4825|          171|             41|131.55591435185184|1012312.0927899999|         74|     0|145.67857142857142|             2232| false|\n",
      "|      201|            7|              1| 72.77818287037037| 38034.08710000002|          1|     1|21.428571428571427|              142| false|\n",
      "|     3437|          163|             29|110.75168981481481| 711344.9195400011|         33|     0| 81.17142857142858|             1744|  true|\n",
      "|     2278|           81|             14|56.513576388888886|477307.60581000015|         31|     1|136.71428571428572|             1302| false|\n",
      "|     1002|           58|              3|23.556018518518517|       198779.2919|         11|     0|136.66666666666666|              643| false|\n",
      "|     2304|           96|             17|  66.8891087962963| 483118.9038399997|         41|     0|             120.5|             1299| false|\n",
      "|      310|           17|              3| 85.08340277777778| 67703.47208000004|          6|     1|42.833333333333336|              233|  true|\n",
      "|     2149|           86|             16|53.965937499999995| 447464.0146699989|         29|     1|             179.7|             1241|  true|\n",
      "|      848|           40|              9|124.47825231481481|159669.96303999983|          6|     0|           40.4375|              534| false|\n",
      "|     2469|           95|             24| 66.62668981481481| 512449.8827599989|         41|     1|             138.0|             1332| false|\n",
      "|     4428|          303|             28| 74.35851851851852| 897406.9802100015|         63|     0|59.540983606557376|             2070| false|\n",
      "|     3603|          154|             22|60.104050925925925| 754517.5625700009|         47|     1| 89.05882352941177|             1804|  true|\n",
      "|     1342|           72|              9| 71.42444444444445| 286064.0256399999|         12|     0|             125.0|              865| false|\n",
      "|      319|           11|              5| 64.73886574074074| 57633.17563999999|          7|     1|              46.0|              207|  true|\n",
      "|     4257|          166|             25| 67.11364583333334| 881792.9661300007|         52|     0| 87.14634146341463|             2073| false|\n",
      "|      292|            9|              3| 87.46262731481481| 53062.74659000002|          7|     1| 23.88888888888889|              195| false|\n",
      "|     1003|           32|              5|59.125856481481485|193639.95913000012|         27|     1|             30.68|              622|  true|\n",
      "+---------+-------------+---------------+------------------+------------------+-----------+------+------------------+-----------------+------+\n",
      "only showing top 20 rows\n",
      "\n"
     ]
    }
   ],
   "source": [
    "# Combining all features with the target\n",
    "data = songs.join(thumbs_up, 'userId', 'inner').join(thumbs_down, 'userId', 'inner').join(period, 'userId', 'inner')\\\n",
    "             .join(listen_period, 'userId', 'inner').join(friends, 'userId', 'inner').join(gender, 'userId', 'inner')\\\n",
    "             .join(songs_per_sess, 'userId', 'inner').join(artist, 'userId', 'inner').join(target, 'userId', 'inner').drop('userId')\n",
    "\n",
    "data.show()"
   ]
  },
  {
   "cell_type": "code",
   "execution_count": 20,
   "metadata": {},
   "outputs": [
    {
     "data": {
      "text/plain": [
       "tot_songs            0\n",
       "tot_thumbs_up        0\n",
       "tot_thumbs_down      0\n",
       "tot_lifetime         0\n",
       "tot_listen_time      0\n",
       "tot_friends          0\n",
       "gender               0\n",
       "avg_played_songs     0\n",
       "tot_artist_played    0\n",
       "target               0\n",
       "dtype: int64"
      ]
     },
     "execution_count": 20,
     "metadata": {},
     "output_type": "execute_result"
    }
   ],
   "source": [
    "# check null\n",
    "data.toPandas().isnull().sum()\n"
   ]
  },
  {
   "cell_type": "markdown",
   "metadata": {},
   "source": [
    "# Modeling\n",
    "Split the full dataset into train, test, and validation sets. Test out several of the machine learning methods you learned. Evaluate the accuracy of the various models, tuning parameters as necessary. Determine your winning model based on test accuracy and report results on the validation set. Since the churned users are a fairly small subset, I suggest using F1 score as the metric to optimize."
   ]
  },
  {
   "cell_type": "code",
   "execution_count": 21,
   "metadata": {},
   "outputs": [
    {
     "name": "stdout",
     "output_type": "stream",
     "text": [
      "+---------+-------------+---------------+------------------+------------------+-----------+------+------------------+-----------------+------+--------------------+\n",
      "|tot_songs|tot_thumbs_up|tot_thumbs_down|      tot_lifetime|   tot_listen_time|tot_friends|gender|  avg_played_songs|tot_artist_played|target|        VectFeatures|\n",
      "+---------+-------------+---------------+------------------+------------------+-----------+------+------------------+-----------------+------+--------------------+\n",
      "|      381|           17|              5|  55.6436574074074| 66940.89735000003|          4|     0|39.285714285714285|              252| false|[381.0,17.0,5.0,5...|\n",
      "|      474|           21|              6| 70.07462962962963| 94008.87593999993|          4|     1|              64.5|              339| false|[474.0,21.0,6.0,7...|\n",
      "|     2464|          100|             21|19.455844907407407| 523275.8428000004|         28|     1|             211.1|             1385|  true|[2464.0,100.0,21....|\n",
      "|     4825|          171|             41|131.55591435185184|1012312.0927899999|         74|     0|145.67857142857142|             2232| false|[4825.0,171.0,41....|\n",
      "|      201|            7|              1| 72.77818287037037| 38034.08710000002|          1|     1|21.428571428571427|              142| false|[201.0,7.0,1.0,72...|\n",
      "|     3437|          163|             29|110.75168981481481| 711344.9195400011|         33|     0| 81.17142857142858|             1744|  true|[3437.0,163.0,29....|\n",
      "|     2278|           81|             14|56.513576388888886|477307.60581000015|         31|     1|136.71428571428572|             1302| false|[2278.0,81.0,14.0...|\n",
      "|     1002|           58|              3|23.556018518518517|       198779.2919|         11|     0|136.66666666666666|              643| false|[1002.0,58.0,3.0,...|\n",
      "|     2304|           96|             17|  66.8891087962963| 483118.9038399997|         41|     0|             120.5|             1299| false|[2304.0,96.0,17.0...|\n",
      "|      310|           17|              3| 85.08340277777778| 67703.47208000004|          6|     1|42.833333333333336|              233|  true|[310.0,17.0,3.0,8...|\n",
      "|     2149|           86|             16|53.965937499999995| 447464.0146699989|         29|     1|             179.7|             1241|  true|[2149.0,86.0,16.0...|\n",
      "|      848|           40|              9|124.47825231481481|159669.96303999983|          6|     0|           40.4375|              534| false|[848.0,40.0,9.0,1...|\n",
      "|     2469|           95|             24| 66.62668981481481| 512449.8827599989|         41|     1|             138.0|             1332| false|[2469.0,95.0,24.0...|\n",
      "|     4428|          303|             28| 74.35851851851852| 897406.9802100015|         63|     0|59.540983606557376|             2070| false|[4428.0,303.0,28....|\n",
      "|     3603|          154|             22|60.104050925925925| 754517.5625700009|         47|     1| 89.05882352941177|             1804|  true|[3603.0,154.0,22....|\n",
      "|     1342|           72|              9| 71.42444444444445| 286064.0256399999|         12|     0|             125.0|              865| false|[1342.0,72.0,9.0,...|\n",
      "|      319|           11|              5| 64.73886574074074| 57633.17563999999|          7|     1|              46.0|              207|  true|[319.0,11.0,5.0,6...|\n",
      "|     4257|          166|             25| 67.11364583333334| 881792.9661300007|         52|     0| 87.14634146341463|             2073| false|[4257.0,166.0,25....|\n",
      "|      292|            9|              3| 87.46262731481481| 53062.74659000002|          7|     1| 23.88888888888889|              195| false|[292.0,9.0,3.0,87...|\n",
      "|     1003|           32|              5|59.125856481481485|193639.95913000012|         27|     1|             30.68|              622|  true|[1003.0,32.0,5.0,...|\n",
      "+---------+-------------+---------------+------------------+------------------+-----------+------+------------------+-----------------+------+--------------------+\n",
      "only showing top 20 rows\n",
      "\n"
     ]
    }
   ],
   "source": [
    "# vectorize all of our features\n",
    "\n",
    "input_cols = ['tot_songs', 'tot_thumbs_up', 'tot_thumbs_down', 'tot_lifetime', 'tot_listen_time', 'tot_friends', 'gender', 'avg_played_songs', 'tot_artist_played']\n",
    "assmblr = VectorAssembler(inputCols = input_cols, outputCol = \"VectFeatures\")\n",
    "data = assmblr.transform(data)\n",
    "data.show()"
   ]
  },
  {
   "cell_type": "code",
   "execution_count": 22,
   "metadata": {},
   "outputs": [],
   "source": [
    "# Standardizing all input features\n",
    "scaler = StandardScaler(inputCol = 'VectFeatures', outputCol = \"newFeatures\", withStd = True)\n",
    "scaler_model = scaler.fit(data)\n",
    "data = scaler_model.transform(data)"
   ]
  },
  {
   "cell_type": "code",
   "execution_count": 23,
   "metadata": {
    "scrolled": true
   },
   "outputs": [
    {
     "name": "stdout",
     "output_type": "stream",
     "text": [
      "+-----+--------------------+\n",
      "|label|            features|\n",
      "+-----+--------------------+\n",
      "|false|[0.28303716272111...|\n",
      "|false|[0.35212497409397...|\n",
      "| true|[1.83045556153494...|\n",
      "|false|[3.58439451477521...|\n",
      "|false|[0.14931881812845...|\n",
      "| true|[2.55327750202744...|\n",
      "|false|[1.69227993878920...|\n",
      "|false|[0.74436545156575...|\n",
      "|false|[1.71159481078592...|\n",
      "| true|[0.23029270457623...|\n",
      "| true|[1.59644845849780...|\n",
      "|false|[0.62996197896981...|\n",
      "|false|[1.83416995999585...|\n",
      "|false|[3.2894712769792,...|\n",
      "| true|[2.67659553092955...|\n",
      "|false|[0.99694454690742...|\n",
      "| true|[0.23697862180586...|\n",
      "|false|[3.16243884961618...|\n",
      "|false|[0.21692087011696...|\n",
      "| true|[0.74510833125793...|\n",
      "+-----+--------------------+\n",
      "only showing top 20 rows\n",
      "\n"
     ]
    }
   ],
   "source": [
    "data = data.select(data.target.alias(\"label\"), data.newFeatures.alias(\"features\"))\n",
    "data.show()"
   ]
  },
  {
   "cell_type": "code",
   "execution_count": 24,
   "metadata": {},
   "outputs": [
    {
     "name": "stdout",
     "output_type": "stream",
     "text": [
      "+-----+--------------------+\n",
      "|label|            features|\n",
      "+-----+--------------------+\n",
      "|    0|[0.28303716272111...|\n",
      "|    0|[0.35212497409397...|\n",
      "|    1|[1.83045556153494...|\n",
      "|    0|[3.58439451477521...|\n",
      "|    0|[0.14931881812845...|\n",
      "|    1|[2.55327750202744...|\n",
      "|    0|[1.69227993878920...|\n",
      "|    0|[0.74436545156575...|\n",
      "|    0|[1.71159481078592...|\n",
      "|    1|[0.23029270457623...|\n",
      "|    1|[1.59644845849780...|\n",
      "|    0|[0.62996197896981...|\n",
      "|    0|[1.83416995999585...|\n",
      "|    0|[3.2894712769792,...|\n",
      "|    1|[2.67659553092955...|\n",
      "|    0|[0.99694454690742...|\n",
      "|    1|[0.23697862180586...|\n",
      "|    0|[3.16243884961618...|\n",
      "|    0|[0.21692087011696...|\n",
      "|    1|[0.74510833125793...|\n",
      "+-----+--------------------+\n",
      "only showing top 20 rows\n",
      "\n"
     ]
    }
   ],
   "source": [
    "# convert boolean to integer\n",
    "\n",
    "import pyspark.sql.functions as F\n",
    "from functools import reduce\n",
    "\n",
    "cols = ['label']\n",
    "data=reduce(lambda data, c: data.withColumn(c, F.when(data[c] == 'false', 0).otherwise(1)), cols, data)\n",
    "data.show()\n"
   ]
  },
  {
   "cell_type": "code",
   "execution_count": 25,
   "metadata": {},
   "outputs": [],
   "source": [
    "train, valid = data.randomSplit([0.80, 0.20], seed = 42)\n",
    "train = train.cache()"
   ]
  },
  {
   "cell_type": "code",
   "execution_count": 26,
   "metadata": {},
   "outputs": [],
   "source": [
    "# 1st Approach : Random Forest Classifier\n",
    "rf_clf = RandomForestClassifier()\n",
    "\n",
    "f1_evaluation = MulticlassClassificationEvaluator(metricName = 'f1')\n",
    "param_grid = ParamGridBuilder().build()\n",
    "\n",
    "cross_val_rf = CrossValidator(estimator = rf_clf, estimatorParamMaps = param_grid, evaluator = f1_evaluation, numFolds = 2)"
   ]
  },
  {
   "cell_type": "code",
   "execution_count": 27,
   "metadata": {},
   "outputs": [
    {
     "data": {
      "text/plain": [
       "[0.798871665850202]"
      ]
     },
     "execution_count": 27,
     "metadata": {},
     "output_type": "execute_result"
    }
   ],
   "source": [
    "model_rf = cross_val_rf.fit(train)\n",
    "model_rf.avgMetrics"
   ]
  },
  {
   "cell_type": "code",
   "execution_count": 28,
   "metadata": {},
   "outputs": [],
   "source": [
    "res_rf = model_rf.transform(valid)"
   ]
  },
  {
   "cell_type": "code",
   "execution_count": 29,
   "metadata": {},
   "outputs": [
    {
     "name": "stdout",
     "output_type": "stream",
     "text": [
      "The metrics for our Random Forest Classifier are as follows :\n",
      "The F-1 Score is 0.8333333333333334\n"
     ]
    }
   ],
   "source": [
    "# Get different evaluation metrics\n",
    "evaluator = MulticlassClassificationEvaluator(predictionCol = \"prediction\")\n",
    "print(\"The metrics for our Random Forest Classifier are as follows :\")\n",
    "print(\"The F-1 Score is {}\".format(evaluator.evaluate(res_rf, {evaluator.metricName : \"accuracy\"})))\n"
   ]
  },
  {
   "cell_type": "code",
   "execution_count": 30,
   "metadata": {},
   "outputs": [],
   "source": [
    "# 2nd Approach : Gradient Boosted Trees\n",
    "gbt_clf = GBTClassifier(maxIter = 10, maxDepth = 10, seed = 42)\n",
    "\n",
    "f1_evaluation = MulticlassClassificationEvaluator(metricName = 'f1')\n",
    "\n",
    "param_grid = ParamGridBuilder().build()\n",
    "\n",
    "cross_val_gbt = CrossValidator(estimator = gbt_clf, estimatorParamMaps = param_grid, evaluator = f1_evaluation, numFolds = 2)"
   ]
  },
  {
   "cell_type": "code",
   "execution_count": 31,
   "metadata": {},
   "outputs": [
    {
     "data": {
      "text/plain": [
       "[0.746464915079956]"
      ]
     },
     "execution_count": 31,
     "metadata": {},
     "output_type": "execute_result"
    }
   ],
   "source": [
    "model_gbt = cross_val_gbt.fit(train)\n",
    "model_gbt.avgMetrics"
   ]
  },
  {
   "cell_type": "code",
   "execution_count": 32,
   "metadata": {},
   "outputs": [],
   "source": [
    "res_gbt = model_gbt.transform(valid)"
   ]
  },
  {
   "cell_type": "code",
   "execution_count": 33,
   "metadata": {},
   "outputs": [
    {
     "name": "stdout",
     "output_type": "stream",
     "text": [
      "The metrics for our Gradient Boosted Trees Classifier are as follows: \n",
      "The F-1 Score is 0.7333333333333333\n"
     ]
    }
   ],
   "source": [
    "# Get different evaluation metrics\n",
    "evaluator = MulticlassClassificationEvaluator(predictionCol = \"prediction\")\n",
    "print(\"The metrics for our Gradient Boosted Trees Classifier are as follows: \")\n",
    "print(\"The F-1 Score is {}\".format(evaluator.evaluate(res_gbt, {evaluator.metricName : \"accuracy\"})))\n"
   ]
  },
  {
   "cell_type": "code",
   "execution_count": 34,
   "metadata": {},
   "outputs": [],
   "source": [
    "# Tune Hyperparameters for the Gradient Boosting Trees\n",
    "gbt_clf = GBTClassifier(maxIter = 15, seed = 42)\n",
    "\n",
    "param_grid_gbt = ParamGridBuilder().addGrid(gbt_clf.maxIter, [10, 15, 20])\\\n",
    "                 .addGrid(gbt_clf.maxDepth, [5, 10]).build()\n",
    "\n",
    "f1_evaluation = MulticlassClassificationEvaluator(metricName = 'f1')\n",
    "\n",
    "cross_val_gbt = CrossValidator(estimator = gbt_clf, estimatorParamMaps = param_grid_gbt, evaluator = f1_evaluation, numFolds = 2)"
   ]
  },
  {
   "cell_type": "code",
   "execution_count": 35,
   "metadata": {},
   "outputs": [
    {
     "data": {
      "text/plain": [
       "[0.7545432474229943,\n",
       " 0.746464915079956,\n",
       " 0.7545432474229943,\n",
       " 0.746464915079956,\n",
       " 0.746464915079956,\n",
       " 0.746464915079956]"
      ]
     },
     "execution_count": 35,
     "metadata": {},
     "output_type": "execute_result"
    }
   ],
   "source": [
    "model_gbt = cross_val_gbt.fit(train)\n",
    "model_gbt.avgMetrics"
   ]
  },
  {
   "cell_type": "code",
   "execution_count": 44,
   "metadata": {},
   "outputs": [],
   "source": [
    "# Choose the parameters with best metrics\n",
    "gbt_final = GBTClassifier(maxIter = 15 , seed = 42, maxDepth = 5)\n",
    "gbt_final_model = gbt_final.fit(train)\n",
    "res_final = gbt_final_model.transform(valid)"
   ]
  },
  {
   "cell_type": "code",
   "execution_count": 46,
   "metadata": {},
   "outputs": [
    {
     "name": "stdout",
     "output_type": "stream",
     "text": [
      "The final metrics for our Gradient Boosted Trees Classifier are as follows: \n",
      "The F-1 Score is 0.7333333333333333\n"
     ]
    }
   ],
   "source": [
    "# Get final evaluation metrics\n",
    "evaluator = MulticlassClassificationEvaluator(predictionCol = \"prediction\")\n",
    "print(\"The final metrics for our Gradient Boosted Trees Classifier are as follows: \")\n",
    "print(\"The F-1 Score is {}\".format(evaluator.evaluate(res_gbt, {evaluator.metricName : \"accuracy\"})))\n"
   ]
  },
  {
   "cell_type": "markdown",
   "metadata": {},
   "source": [
    "# Final Steps\n",
    "Clean up your code, adding comments and renaming variables to make the code easier to read and maintain. Refer to the Spark Project Overview page and Data Scientist Capstone Project Rubric to make sure you are including all components of the capstone project and meet all expectations. Remember, this includes thorough documentation in a README file in a Github repository, as well as a web app or blog post."
   ]
  }
 ],
 "metadata": {
  "kernelspec": {
   "display_name": "Python 3",
   "language": "python",
   "name": "python3"
  },
  "language_info": {
   "codemirror_mode": {
    "name": "ipython",
    "version": 3
   },
   "file_extension": ".py",
   "mimetype": "text/x-python",
   "name": "python",
   "nbconvert_exporter": "python",
   "pygments_lexer": "ipython3",
   "version": "3.6.3"
  }
 },
 "nbformat": 4,
 "nbformat_minor": 2
}
