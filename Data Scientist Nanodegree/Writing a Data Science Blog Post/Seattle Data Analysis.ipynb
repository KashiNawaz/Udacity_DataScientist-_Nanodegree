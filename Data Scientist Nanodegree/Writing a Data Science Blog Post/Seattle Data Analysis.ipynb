{
 "cells": [
  {
   "cell_type": "code",
   "execution_count": 4,
   "metadata": {},
   "outputs": [],
   "source": [
    "### Airbnb Seattle Data Analysis ###"
   ]
  },
  {
   "cell_type": "code",
   "execution_count": 5,
   "metadata": {},
   "outputs": [],
   "source": [
    "#Questions:\n",
    "\n",
    "#Q1: Which areas are more mob and expensive ?\n",
    "#Q2: How much prices spikes in the busiest time of the year ?\n",
    "#Q3: Whhic features will be more helpful in predicting price in that area ?"
   ]
  },
  {
   "cell_type": "code",
   "execution_count": 6,
   "metadata": {},
   "outputs": [],
   "source": [
    "#How much prices spikes in the busiest time of the year ?"
   ]
  },
  {
   "cell_type": "code",
   "execution_count": 32,
   "metadata": {},
   "outputs": [],
   "source": [
    "import pandas as pd\n",
    "import matplotlib.pyplot as plt\n",
    "import matplotlib.cm as cm\n",
    "from matplotlib.colors import Normalize\n",
    "from numpy.random import rand\n",
    "\n",
    "%matplotlib inline"
   ]
  },
  {
   "cell_type": "code",
   "execution_count": 15,
   "metadata": {},
   "outputs": [
    {
     "name": "stdout",
     "output_type": "stream",
     "text": [
      "(3818, 92)\n"
     ]
    }
   ],
   "source": [
    "df_listings = pd.read_csv('data/listings.csv',sep=',')\n",
    "\n",
    "# Dimension of Data\n",
    "print(df_listings.shape)\n",
    "# print(df_listings.info())"
   ]
  },
  {
   "cell_type": "code",
   "execution_count": 16,
   "metadata": {},
   "outputs": [
    {
     "data": {
      "text/html": [
       "<div>\n",
       "<style scoped>\n",
       "    .dataframe tbody tr th:only-of-type {\n",
       "        vertical-align: middle;\n",
       "    }\n",
       "\n",
       "    .dataframe tbody tr th {\n",
       "        vertical-align: top;\n",
       "    }\n",
       "\n",
       "    .dataframe thead th {\n",
       "        text-align: right;\n",
       "    }\n",
       "</style>\n",
       "<table border=\"1\" class=\"dataframe\">\n",
       "  <thead>\n",
       "    <tr style=\"text-align: right;\">\n",
       "      <th></th>\n",
       "      <th>id</th>\n",
       "      <th>neighbourhood_group_cleansed</th>\n",
       "      <th>price</th>\n",
       "    </tr>\n",
       "  </thead>\n",
       "  <tbody>\n",
       "    <tr>\n",
       "      <th>0</th>\n",
       "      <td>241032</td>\n",
       "      <td>Queen Anne</td>\n",
       "      <td>$85.00</td>\n",
       "    </tr>\n",
       "    <tr>\n",
       "      <th>1</th>\n",
       "      <td>953595</td>\n",
       "      <td>Queen Anne</td>\n",
       "      <td>$150.00</td>\n",
       "    </tr>\n",
       "    <tr>\n",
       "      <th>2</th>\n",
       "      <td>3308979</td>\n",
       "      <td>Queen Anne</td>\n",
       "      <td>$975.00</td>\n",
       "    </tr>\n",
       "    <tr>\n",
       "      <th>3</th>\n",
       "      <td>7421966</td>\n",
       "      <td>Queen Anne</td>\n",
       "      <td>$100.00</td>\n",
       "    </tr>\n",
       "    <tr>\n",
       "      <th>4</th>\n",
       "      <td>278830</td>\n",
       "      <td>Queen Anne</td>\n",
       "      <td>$450.00</td>\n",
       "    </tr>\n",
       "  </tbody>\n",
       "</table>\n",
       "</div>"
      ],
      "text/plain": [
       "        id neighbourhood_group_cleansed    price\n",
       "0   241032                   Queen Anne   $85.00\n",
       "1   953595                   Queen Anne  $150.00\n",
       "2  3308979                   Queen Anne  $975.00\n",
       "3  7421966                   Queen Anne  $100.00\n",
       "4   278830                   Queen Anne  $450.00"
      ]
     },
     "execution_count": 16,
     "metadata": {},
     "output_type": "execute_result"
    }
   ],
   "source": [
    "# new dataframe with required columns\n",
    "columns_required=['id','neighbourhood_group_cleansed','price']\n",
    "df_listings= pd.DataFrame(data=df_listings, index=df_listings.index, columns=columns_required) \n",
    "df_listings.head()"
   ]
  },
  {
   "cell_type": "code",
   "execution_count": 21,
   "metadata": {},
   "outputs": [
    {
     "name": "stdout",
     "output_type": "stream",
     "text": [
      "Missing Records\n",
      " price                           0\n",
      "neighbourhood_group_cleansed    0\n",
      "id                              0\n",
      "dtype: int64\n"
     ]
    }
   ],
   "source": [
    "# Change the price to float\n",
    "df_listings['price']= pd.to_numeric(listings_df_clean['price'].str.translate({ord(i): None for i in '$,'}))\n",
    "\n",
    "# Missing records in each column\n",
    "print(\"Missing Records\\n\",df_listings.isnull().sum().sort_values(ascending=False))"
   ]
  },
  {
   "cell_type": "code",
   "execution_count": 23,
   "metadata": {},
   "outputs": [
    {
     "name": "stdout",
     "output_type": "stream",
     "text": [
      "Average Price for each nearby group:\n",
      " neighbourhood_group_cleansed\n",
      "Magnolia               177.672131\n",
      "Queen Anne             157.223729\n",
      "Downtown               154.405660\n",
      "West Seattle           141.359606\n",
      "Cascade                140.101124\n",
      "Capitol Hill           130.592593\n",
      "Central Area           128.338753\n",
      "Ballard                124.682609\n",
      "Other neighborhoods    119.968514\n",
      "Interbay               109.727273\n",
      "Seward Park            108.477273\n",
      "Beacon Hill             94.669492\n",
      "University District     93.639344\n",
      "Lake City               92.671642\n",
      "Rainier Valley          91.899371\n",
      "Northgate               88.550000\n",
      "Delridge                83.278481\n",
      "Name: price, dtype: float64\n"
     ]
    }
   ],
   "source": [
    "# Average price for each near by group\n",
    "nearby_groups_price=df_listings.groupby(['neighbourhood_group_cleansed'])['price'].mean()\n",
    "\n",
    "# Sort values\n",
    "nearby_groups_price=nearby_groups_price.sort_values(ascending=False)\n",
    "print(\"Average Price for each nearby group:\\n\",nearby_groups_price)"
   ]
  },
  {
   "cell_type": "code",
   "execution_count": 25,
   "metadata": {},
   "outputs": [
    {
     "data": {
      "text/plain": [
       "count     17.000000\n",
       "mean     119.838682\n",
       "std       27.847598\n",
       "min       83.278481\n",
       "25%       93.639344\n",
       "50%      119.968514\n",
       "75%      140.101124\n",
       "max      177.672131\n",
       "Name: price, dtype: float64"
      ]
     },
     "execution_count": 25,
     "metadata": {},
     "output_type": "execute_result"
    }
   ],
   "source": [
    "# statistical information\n",
    "nearby_groups_price.describe()"
   ]
  },
  {
   "cell_type": "code",
   "execution_count": 30,
   "metadata": {},
   "outputs": [
    {
     "name": "stdout",
     "output_type": "stream",
     "text": [
      "High price neighbourhood:\n",
      " ['Magnolia', 'Queen Anne', 'Downtown', 'West Seattle', 'Cascade']\n",
      "\n",
      "Low price neighbourhood:\n",
      " ['Lake City', 'Rainier Valley', 'Northgate', 'Delridge']\n"
     ]
    }
   ],
   "source": [
    "# By analysing statistical info le consider neighbourhood with avergae price over 140 to be expensive (above 75% of data)\n",
    "highPrice_nearby_group=nearby_groups_price[nearby_groups_price>140]\n",
    "\n",
    "highPrice_nearby_group=highPrice_nearby_group.index.tolist()\n",
    "print(\"High price neighbourhood:\\n\",highPrice_nearby_group)\n",
    "\n",
    "# Now consider neighbourhood with avergae price under 93 to be cheap (under 25% of data)\n",
    "lowPrice_nearby_group=nearby_groups_price[nearby_groups_price<93]\n",
    "\n",
    "# Get names of high price months\n",
    "lowPrice_nearby_group=lowPrice_nearby_group.index.tolist()\n",
    "print(\"\\nLow price neighbourhood:\\n\",lowPrice_nearby_group)"
   ]
  },
  {
   "cell_type": "code",
   "execution_count": 51,
   "metadata": {},
   "outputs": [
    {
     "data": {
      "image/png": "[encoded data removed]",
      "text/plain": [
       "<Figure size 1008x504 with 1 Axes>"
      ]
     },
     "metadata": {
      "needs_background": "light"
     },
     "output_type": "display_data"
    }
   ],
   "source": [
    "# Plot the average price per neighbourhoods\n",
    "\n",
    "# Get a color map\n",
    "my_cmap = cm.get_cmap('jet')\n",
    "my_norm = Normalize()\n",
    "\n",
    "plt.figure(figsize=(14,7))\n",
    "plt.bar(nearby_groups_price.index,nearby_groups_price,color=my_cmap(my_norm(nearby_groups_price.values)))\n",
    "plt.xticks(rotation=90)\n",
    "plt.xlabel('Neighborhoods')\n",
    "plt.ylabel('Price')\n",
    "plt.title('Price among each neighborhood')\n",
    "plt.show()"
   ]
  },
  {
   "cell_type": "code",
   "execution_count": 46,
   "metadata": {},
   "outputs": [
    {
     "name": "stdout",
     "output_type": "stream",
     "text": [
      "Popular listings:\n",
      " neighbourhood_group_cleansed\n",
      "Other neighborhoods    0.207962\n",
      "Capitol Hill           0.148507\n",
      "Downtown               0.138816\n",
      "Central Area           0.096647\n",
      "Queen Anne             0.077266\n",
      "Ballard                0.060241\n",
      "West Seattle           0.053169\n",
      "Rainier Valley         0.041645\n",
      "University District    0.031954\n",
      "Beacon Hill            0.030906\n",
      "Cascade                0.023311\n",
      "Northgate              0.020953\n",
      "Delridge               0.020691\n",
      "Lake City              0.017548\n",
      "Magnolia               0.015977\n",
      "Seward Park            0.011524\n",
      "Interbay               0.002881\n",
      "Name: id, dtype: float64\n"
     ]
    }
   ],
   "source": [
    "# average number of listings for each neighbourhood group\n",
    "popular_nearby_group=df_listings.groupby(['neighbourhood_group_cleansed'])['id'].count()/df_listings.shape[0]\n",
    "\n",
    "# Sort values\n",
    "popular_nearby_group=popular_nearby_group.sort_values(ascending=False)\n",
    "print(\"Popular listings:\\n\",popular_nearby_group)"
   ]
  },
  {
   "cell_type": "code",
   "execution_count": 47,
   "metadata": {},
   "outputs": [
    {
     "data": {
      "text/plain": [
       "count    17.000000\n",
       "mean      0.058824\n",
       "std       0.057739\n",
       "min       0.002881\n",
       "25%       0.020691\n",
       "50%       0.031954\n",
       "75%       0.077266\n",
       "max       0.207962\n",
       "Name: id, dtype: float64"
      ]
     },
     "execution_count": 47,
     "metadata": {},
     "output_type": "execute_result"
    }
   ],
   "source": [
    "# statistical information\n",
    "popular_nearby_group.describe()"
   ]
  },
  {
   "cell_type": "code",
   "execution_count": 49,
   "metadata": {},
   "outputs": [
    {
     "name": "stdout",
     "output_type": "stream",
     "text": [
      "Most popular neighbourhood:\n",
      " ['Other neighborhoods', 'Capitol Hill', 'Downtown', 'Central Area']\n",
      "\n",
      "Less popular neighbourhood:\n",
      " ['Lake City', 'Magnolia', 'Seward Park', 'Interbay']\n"
     ]
    }
   ],
   "source": [
    "# By analysing statistical info consider neighbourhood with average number of listings over 0.08 to be popular (above 75% of data)\n",
    "popular_neighbourhood=popular_nearby_group[popular_nearby_group>0.08]\n",
    "\n",
    "# Get names of high price months\n",
    "popular_neighbourhood=popular_neighbourhood.index.tolist()\n",
    "print(\"Most popular neighbourhood:\\n\",popular_neighbourhood)\n",
    "\n",
    "# Now consider neighbourhood with The average number of listings under 0.02 to be unpopular (under 25% of data)\n",
    "unpopular_neighbourhood=popular_nearby_group[popular_nearby_group<0.02]\n",
    "\n",
    "# Get names of high price months\n",
    "unpopular_neighbourhood=unpopular_neighbourhood.index.tolist()\n",
    "print(\"\\nLess popular neighbourhood:\\n\",unpopular_neighbourhood)"
   ]
  },
  {
   "cell_type": "code",
   "execution_count": 52,
   "metadata": {},
   "outputs": [
    {
     "data": {
      "image/png": "[encoded data removed]",
      "text/plain": [
       "<Figure size 1008x504 with 1 Axes>"
      ]
     },
     "metadata": {
      "needs_background": "light"
     },
     "output_type": "display_data"
    }
   ],
   "source": [
    "# Plot Average number of listings per neighbourhoods\n",
    "\n",
    "# Get a color map\n",
    "my_cmap = cm.get_cmap('jet')\n",
    "my_norm = Normalize()\n",
    "\n",
    "plt.figure(figsize=(14,7))\n",
    "plt.bar(popular_nearby_group.index,popular_nearby_group,color=my_cmap(my_norm(nearby_groups_price.values)))\n",
    "plt.xticks(rotation=90)\n",
    "plt.xlabel('Neighborhoods')\n",
    "plt.ylabel('Average number of listings')\n",
    "plt.title('Listings distribution among neighborhoods')\n",
    "plt.show()"
   ]
  },
  {
   "cell_type": "code",
   "execution_count": 55,
   "metadata": {},
   "outputs": [
    {
     "name": "stdout",
     "output_type": "stream",
     "text": [
      "expensive and crowded neighbourhood: ['Downtown']\n",
      "expensive and crowded neighbourhood: ['Magnolia']\n",
      "cheap and crowded neighbourhood: []\n",
      "expensive and crowded neighbourhood: ['Lake City']\n"
     ]
    }
   ],
   "source": [
    "print(\"expensive and crowded neighbourhood:\",list(set(highPrice_nearby_group) & set(popular_neighbourhood)))\n",
    "print(\"expensive and crowded neighbourhood:\",list(set(highPrice_nearby_group) & set(unpopular_neighbourhood)))\n",
    "\n",
    "print(\"cheap and crowded neighbourhood:\",list(set(lowPrice_nearby_group) & set(popular_neighbourhood)))\n",
    "print(\"expensive and crowded neighbourhood:\",list(set(lowPrice_nearby_group) & set(unpopular_neighbourhood)))\n"
   ]
  },
  {
   "cell_type": "code",
   "execution_count": 16,
   "metadata": {},
   "outputs": [],
   "source": [
    "#Q2 How much prices spikes in the busiest time of the year ?"
   ]
  },
  {
   "cell_type": "code",
   "execution_count": 134,
   "metadata": {},
   "outputs": [
    {
     "name": "stdout",
     "output_type": "stream",
     "text": [
      "Data dimension: (1393570, 4)\n",
      "Duplicate records: 0\n"
     ]
    }
   ],
   "source": [
    "# Load calendar data.\n",
    "df_calender = pd.read_csv('data/calendar.csv',sep=',')\n",
    "\n",
    "# Dimension of data\n",
    "print(\"Data dimension:\",df_calender.shape)\n",
    "\n",
    "# Check duplicate records\n",
    "print(\"Duplicate records:\",df_calender.duplicated().sum())"
   ]
  },
  {
   "cell_type": "code",
   "execution_count": 135,
   "metadata": {},
   "outputs": [
    {
     "name": "stdout",
     "output_type": "stream",
     "text": [
      "Data types:\n",
      " listing_id             int64\n",
      "date          datetime64[ns]\n",
      "available             object\n",
      "price                float64\n",
      "dtype: object\n"
     ]
    }
   ],
   "source": [
    "# update the type of price\n",
    "df_calender['price']= pd.to_numeric(df_calender['price'].str.translate({ord(i): None for i in '$,'}))\n",
    "\n",
    "# update the type of date\n",
    "df_calender['date']= pd.to_datetime(df_calender['date'],errors = 'ignore', format = '%Y-%m-%d')\n",
    "\n",
    "print(\"Data types:\\n\",df_calender.dtypes)"
   ]
  },
  {
   "cell_type": "code",
   "execution_count": 136,
   "metadata": {},
   "outputs": [
    {
     "name": "stdout",
     "output_type": "stream",
     "text": [
      "Missing average:\n",
      " price         0.32939\n",
      "available     0.00000\n",
      "date          0.00000\n",
      "listing_id    0.00000\n",
      "dtype: float64\n",
      "After dropping null values, Records: (934542, 4)\n"
     ]
    }
   ],
   "source": [
    "# averag missing data\n",
    "print(\"Missing average:\\n\",df_calender.isnull().mean().sort_values(ascending=False))\n",
    "\n",
    "# Drop null values\n",
    "df_calender = df_calender.dropna(subset=['price'], axis=0) \n",
    "print(\"After dropping null values, Records:\",df_calender.shape)"
   ]
  },
  {
   "cell_type": "code",
   "execution_count": 137,
   "metadata": {},
   "outputs": [
    {
     "name": "stdout",
     "output_type": "stream",
     "text": [
      "Available months in each year:\n",
      " year\n",
      "2016    [1, 2, 3, 4, 5, 6, 7, 8, 9, 10, 11, 12]\n",
      "2017                                        [1]\n",
      "Name: month, dtype: object\n"
     ]
    },
    {
     "data": {
      "text/html": [
       "<div>\n",
       "<style scoped>\n",
       "    .dataframe tbody tr th:only-of-type {\n",
       "        vertical-align: middle;\n",
       "    }\n",
       "\n",
       "    .dataframe tbody tr th {\n",
       "        vertical-align: top;\n",
       "    }\n",
       "\n",
       "    .dataframe thead th {\n",
       "        text-align: right;\n",
       "    }\n",
       "</style>\n",
       "<table border=\"1\" class=\"dataframe\">\n",
       "  <thead>\n",
       "    <tr style=\"text-align: right;\">\n",
       "      <th></th>\n",
       "      <th>listing_id</th>\n",
       "      <th>date</th>\n",
       "      <th>available</th>\n",
       "      <th>price</th>\n",
       "      <th>year</th>\n",
       "      <th>month</th>\n",
       "      <th>day</th>\n",
       "    </tr>\n",
       "  </thead>\n",
       "  <tbody>\n",
       "    <tr>\n",
       "      <th>0</th>\n",
       "      <td>241032</td>\n",
       "      <td>2016-01-04</td>\n",
       "      <td>1</td>\n",
       "      <td>85.0</td>\n",
       "      <td>2016</td>\n",
       "      <td>1</td>\n",
       "      <td>4</td>\n",
       "    </tr>\n",
       "    <tr>\n",
       "      <th>1</th>\n",
       "      <td>241032</td>\n",
       "      <td>2016-01-05</td>\n",
       "      <td>1</td>\n",
       "      <td>85.0</td>\n",
       "      <td>2016</td>\n",
       "      <td>1</td>\n",
       "      <td>5</td>\n",
       "    </tr>\n",
       "    <tr>\n",
       "      <th>9</th>\n",
       "      <td>241032</td>\n",
       "      <td>2016-01-13</td>\n",
       "      <td>1</td>\n",
       "      <td>85.0</td>\n",
       "      <td>2016</td>\n",
       "      <td>1</td>\n",
       "      <td>13</td>\n",
       "    </tr>\n",
       "    <tr>\n",
       "      <th>10</th>\n",
       "      <td>241032</td>\n",
       "      <td>2016-01-14</td>\n",
       "      <td>1</td>\n",
       "      <td>85.0</td>\n",
       "      <td>2016</td>\n",
       "      <td>1</td>\n",
       "      <td>14</td>\n",
       "    </tr>\n",
       "    <tr>\n",
       "      <th>14</th>\n",
       "      <td>241032</td>\n",
       "      <td>2016-01-18</td>\n",
       "      <td>1</td>\n",
       "      <td>85.0</td>\n",
       "      <td>2016</td>\n",
       "      <td>1</td>\n",
       "      <td>18</td>\n",
       "    </tr>\n",
       "  </tbody>\n",
       "</table>\n",
       "</div>"
      ],
      "text/plain": [
       "    listing_id       date available  price  year  month  day\n",
       "0       241032 2016-01-04         1   85.0  2016      1    4\n",
       "1       241032 2016-01-05         1   85.0  2016      1    5\n",
       "9       241032 2016-01-13         1   85.0  2016      1   13\n",
       "10      241032 2016-01-14         1   85.0  2016      1   14\n",
       "14      241032 2016-01-18         1   85.0  2016      1   18"
      ]
     },
     "execution_count": 137,
     "metadata": {},
     "output_type": "execute_result"
    }
   ],
   "source": [
    "# Convert true value 't' to 1 \n",
    "df_calender.loc[df_calender['available']=='t','available']='1'\n",
    "\n",
    "# add new features\n",
    "df_calender['year'] = df_calender['date'].dt.year\n",
    "df_calender['month'] = df_calender['date'].dt.month\n",
    "df_calender['day'] = df_calender['date'].dt.day\n",
    "\n",
    "print(\"Available months in each year:\\n\",df_calender.groupby(['year'])['month'].unique())\n",
    "\n",
    "df_calender_2016=df_calender[df_calender['year']==2016]\n",
    "df_calender_2016.head()"
   ]
  },
  {
   "cell_type": "code",
   "execution_count": 140,
   "metadata": {},
   "outputs": [],
   "source": [
    "# availability for each month in 2016\n",
    "avlb_month=df_calender_2016.groupby(['month'])['available'].count()/df_calender_2016.shape[0]\n",
    "\n",
    "# print(\"Average of available months:\\n\",avlb_month.sort_values(ascending=False))"
   ]
  },
  {
   "cell_type": "code",
   "execution_count": 141,
   "metadata": {},
   "outputs": [
    {
     "data": {
      "text/plain": [
       "count    12.000000\n",
       "mean      0.083333\n",
       "std       0.007591\n",
       "min       0.063777\n",
       "25%       0.081373\n",
       "50%       0.083163\n",
       "75%       0.088222\n",
       "max       0.093730\n",
       "Name: available, dtype: float64"
      ]
     },
     "execution_count": 141,
     "metadata": {},
     "output_type": "execute_result"
    }
   ],
   "source": [
    "# statistical information\n",
    "avlb_month.describe()"
   ]
  },
  {
   "cell_type": "code",
   "execution_count": 147,
   "metadata": {},
   "outputs": [
    {
     "name": "stdout",
     "output_type": "stream",
     "text": [
      "Most available/active months: [3, 10, 12]\n",
      "inactive months: [1, 2, 7]\n"
     ]
    }
   ],
   "source": [
    "# by analysing statistical info consider the month with average amount of available over 0.0883 to be active (above 75% of data)\n",
    "active_months=avlb_month[avlb_month>0.0883]\n",
    "print(\"Most available/active months:\",active_months.index.tolist())\n",
    "\n",
    "# now consider the months with average amount of available under 0.081 to be inactive (below 25% of data)\n",
    "inactive_months=avlb_month[avlb_month<0.081]\n",
    "print(\"inactive months:\",inactive_months.index.tolist())"
   ]
  },
  {
   "cell_type": "code",
   "execution_count": 148,
   "metadata": {},
   "outputs": [
    {
     "data": {
      "image/png": "[encoded data removed]",
      "text/plain": [
       "<Figure size 576x216 with 1 Axes>"
      ]
     },
     "metadata": {
      "needs_background": "light"
     },
     "output_type": "display_data"
    }
   ],
   "source": [
    "# check availability \n",
    "plt.figure(figsize=(8,3))\n",
    "plt.plot(avlb_month,'X-')\n",
    "plt.title(\"Availability in each month\")\n",
    "plt.show()\n"
   ]
  },
  {
   "cell_type": "code",
   "execution_count": 157,
   "metadata": {},
   "outputs": [],
   "source": [
    "# make a datframe with active months\n",
    "df_active_months=df_calender_2016[df_calender_2016['month'].isin(active_months.index)] \n",
    "# availability for each day\n",
    "active_avb_day=df_active_months.groupby(['day'])['available'].count()/df_active_months.shape[0]\n",
    "\n",
    "# print(\"Available active days:\\n\",active_avb_day.sort_values(ascending=False))"
   ]
  },
  {
   "cell_type": "code",
   "execution_count": 158,
   "metadata": {},
   "outputs": [
    {
     "data": {
      "image/png": "[encoded data removed]",
      "text/plain": [
       "<Figure size 576x216 with 1 Axes>"
      ]
     },
     "metadata": {
      "needs_background": "light"
     },
     "output_type": "display_data"
    }
   ],
   "source": [
    "# check availability on each day\n",
    "plt.figure(figsize=(8,3))\n",
    "plt.plot(active_avb_day,'X-')\n",
    "plt.title(\"Availability on each day\")\n",
    "plt.show()"
   ]
  },
  {
   "cell_type": "code",
   "execution_count": 164,
   "metadata": {},
   "outputs": [],
   "source": [
    "# make a datframe for inactive months\n",
    "df_inactive_months=df_calender_2016[df_calender_2016['month'].isin(inactive_months.index)] \n",
    "# availability for each day\n",
    "inactive_avb_day=df_calender_2016.groupby(['day'])['available'].count()/df_inactive_months.shape[0]\n",
    "\n",
    "# print(\"Available active days:\\n\",inactive_avb_day.sort_values(ascending=False))"
   ]
  },
  {
   "cell_type": "code",
   "execution_count": 165,
   "metadata": {},
   "outputs": [
    {
     "data": {
      "image/png": "[encoded data removed]",
      "text/plain": [
       "<Figure size 576x216 with 1 Axes>"
      ]
     },
     "metadata": {
      "needs_background": "light"
     },
     "output_type": "display_data"
    }
   ],
   "source": [
    "# check availability on each day\n",
    "plt.figure(figsize=(8,3))\n",
    "plt.plot(inactive_avb_day,'X-')\n",
    "plt.title(\"Availability on each day\")\n",
    "plt.show()"
   ]
  },
  {
   "cell_type": "code",
   "execution_count": 166,
   "metadata": {},
   "outputs": [
    {
     "name": "stdout",
     "output_type": "stream",
     "text": [
      "Average price by each month:\n",
      " month\n",
      "7     152.094150\n",
      "8     150.656594\n",
      "6     147.473137\n",
      "9     143.255949\n",
      "5     139.538183\n",
      "12    137.251835\n",
      "10    137.031939\n",
      "11    135.688738\n",
      "4     135.097005\n",
      "3     128.644488\n",
      "2     124.293927\n",
      "1     121.568409\n",
      "Name: price, dtype: float64\n"
     ]
    }
   ],
   "source": [
    "# Check the price trend\n",
    "month_price=df_calender_2016.groupby(['month'])['price'].mean()\n",
    "\n",
    "print('Average price by each month:\\n',month_price.sort_values(ascending=False))"
   ]
  },
  {
   "cell_type": "code",
   "execution_count": 167,
   "metadata": {},
   "outputs": [
    {
     "data": {
      "text/plain": [
       "count     12.000000\n",
       "mean     137.716196\n",
       "std        9.715239\n",
       "min      121.568409\n",
       "25%      133.483876\n",
       "50%      137.141887\n",
       "75%      144.310246\n",
       "max      152.094150\n",
       "Name: price, dtype: float64"
      ]
     },
     "execution_count": 167,
     "metadata": {},
     "output_type": "execute_result"
    }
   ],
   "source": [
    "# statistical information\n",
    "month_price.describe()"
   ]
  },
  {
   "cell_type": "code",
   "execution_count": 168,
   "metadata": {},
   "outputs": [
    {
     "name": "stdout",
     "output_type": "stream",
     "text": [
      "High price months: [6, 7, 8]\n",
      "Low price months: [1, 2, 3]\n"
     ]
    }
   ],
   "source": [
    "# by analysing statistical info consider months with avergae price over 144 to be expensive (above 75% of data)\n",
    "high_price_months=month_price[month_price>144]\n",
    "print('High price months:',high_price_months.index.tolist())\n",
    "\n",
    "# now consider months with avergae price under 133 to be cheap (under 25% of data)\n",
    "low_price_months=month_price[month_price<133]\n",
    "print('Low price months:',low_price_months.index.tolist())\n"
   ]
  },
  {
   "cell_type": "code",
   "execution_count": 169,
   "metadata": {},
   "outputs": [
    {
     "data": {
      "image/png": "[encoded data removed]",
      "text/plain": [
       "<Figure size 576x216 with 1 Axes>"
      ]
     },
     "metadata": {
      "needs_background": "light"
     },
     "output_type": "display_data"
    }
   ],
   "source": [
    "# check price in each month\n",
    "plt.figure(figsize=(8,3))\n",
    "plt.plot(month_price,'X-')\n",
    "plt.title(\"Average price in each month\")\n",
    "plt.show()"
   ]
  },
  {
   "cell_type": "code",
   "execution_count": 172,
   "metadata": {},
   "outputs": [
    {
     "name": "stdout",
     "output_type": "stream",
     "text": [
      "monhts that are active and expensive: []\n",
      "monhts that are active and cheap: [3]\n",
      "monhts that are inactive and expensive: [7]\n",
      "monhts that are inactive and cheap [1, 2]\n"
     ]
    }
   ],
   "source": [
    "# Final analysis:\n",
    "# print(high_price_months,low_price_months,active_months,inactive_months)\n",
    "print(\"monhts that are active and expensive:\",list(set(high_price_months.index) & set(active_months.index)))\n",
    "print(\"monhts that are active and cheap:\",list(set(low_price_months.index) & set(active_months.index)))\n",
    "print(\"monhts that are inactive and expensive:\",list(set(high_price_months.index) & set(inactive_months.index)))\n",
    "print(\"monhts that are inactive and cheap\",list(set(low_price_months.index) & set(inactive_months.index)))"
   ]
  },
  {
   "cell_type": "code",
   "execution_count": 173,
   "metadata": {},
   "outputs": [],
   "source": [
    "#Q3: Whhic features will be more helpful in predicting price in that area ?"
   ]
  },
  {
   "cell_type": "code",
   "execution_count": null,
   "metadata": {},
   "outputs": [],
   "source": []
  }
 ],
 "metadata": {
  "kernelspec": {
   "display_name": "Python 3",
   "language": "python",
   "name": "python3"
  },
  "language_info": {
   "codemirror_mode": {
    "name": "ipython",
    "version": 3
   },
   "file_extension": ".py",
   "mimetype": "text/x-python",
   "name": "python",
   "nbconvert_exporter": "python",
   "pygments_lexer": "ipython3",
   "version": "3.6.9"
  }
 },
 "nbformat": 4,
 "nbformat_minor": 4
}
